{
 "cells": [
  {
   "cell_type": "markdown",
   "id": "1366fc50-8bef-420a-9238-ce6e7a0e6dd5",
   "metadata": {},
   "source": [
    "# Hysteresis Loop\n",
    "In this notebook we explain how to simulate the hysteresis loop."
   ]
  },
  {
   "cell_type": "code",
   "execution_count": null,
   "id": "e324789d-8625-4dd0-8398-15c1b3a35035",
   "metadata": {},
   "outputs": [],
   "source": [
    "from mammos_mmag import Simulation\n",
    "\n",
    "sim = Simulation()"
   ]
  },
  {
   "cell_type": "markdown",
   "id": "35ce41c2-50c2-44c1-bd89-87fcbc3ed01d",
   "metadata": {},
   "source": [
    "First, we specify the mesh file path, the material variables and simulation parameters."
   ]
  },
  {
   "cell_type": "code",
   "execution_count": 2,
   "id": "ad71d008-d306-409b-b72e-7f0c46612e53",
   "metadata": {},
   "outputs": [],
   "source": [
    "sim.mesh_path = \"data/cube.fly\"\n",
    "sim.materials.read_krn(\"data/cube.krn\")\n",
    "sim.parameters.read_p2(\"data/cube.p2\")"
   ]
  },
  {
   "cell_type": "markdown",
   "id": "8d7bf157-c219-47e7-806c-e4d88e0d0533",
   "metadata": {},
   "source": [
    "Then we can simply execute `run_loop`.\n",
    "In `loop`, like in other scripts, we can specify the following **optional** arguments:\n",
    "- `threads`: Number of execution thread\n",
    "- `outdir`: Path of the output folder, where all the files are going to be copied.\n",
    "- `name`: Name of the system. It specifies the name of all output files."
   ]
  },
  {
   "cell_type": "code",
   "execution_count": 3,
   "id": "5f9bb4a4-f258-4c20-a5b7-c059d5952ba8",
   "metadata": {},
   "outputs": [
    {
     "name": "stdout",
     "output_type": "stream",
     "text": [
      "tolerances: optimality tolerance 1e-10   hmag 1e-10   mxh 0.0004641588833612781\n",
      "read mesh from cube.fly\n",
      "-dem->   1.0 1.7592797008415133 -1.8337176479383652\n",
      "-dem->   0.8 1.759229856802775 -1.481866552191227\n",
      "-dem->   0.6000000000000001 1.759170387621495 -1.1300263251993972\n",
      "-dem->   0.4000000000000001 1.759096036393651 -0.7781993762328647\n",
      "-dem->   0.20000000000000007 1.7589934644865537 -0.4263898162637215\n",
      "-dem->   5.551115123125783e-17 1.7588296567578134 -0.07460595437459777\n",
      "-dem->   -0.19999999999999996 1.758482651651614 0.2771306014863986\n",
      "-dem->   -0.39999999999999997 1.7571827967949765 0.6287324994524088\n",
      "-dem->   -0.6 -1.7591703408789219 -1.1300263251754332\n",
      "\n",
      "lbfgs iterations                    : 53\n",
      "number of inner product evaluations : 2231\n",
      "number of norm evaluations          : 257\n",
      "number of L2 norm evaluations       : 62\n",
      "number of argument evaluations      : 160\n",
      "number of cost function evaluations : 160\n",
      "number of gradient evaluations      : 83\n",
      "minimizer time                      : 52.400516986846924\n",
      "  inner products                    : 33.97384285926819\n",
      "  norms                             : 2.890275716781616\n",
      "  function and gradient             : 14.015890121459961\n",
      "    zeeman                          : 0.03900599479675293\n",
      "    exchange+anistorpy              : 0.4239640235900879\n",
      "    magnetostatic                   : 5.428186655044556\n",
      "      right hand side               : 0.7786738872528076\n",
      "      potential                     : 4.578871965408325\n",
      "      gradient                      : 0.06981730461120605\n",
      "    linear system iterations        : 1919\n"
     ]
    }
   ],
   "source": [
    "sim.run_loop(outdir=\"loop\", name=\"cube\")"
   ]
  }
 ],
 "metadata": {
  "kernelspec": {
   "display_name": "Python 3 (ipykernel)",
   "language": "python",
   "name": "python3"
  },
  "language_info": {
   "codemirror_mode": {
    "name": "ipython",
    "version": 3
   },
   "file_extension": ".py",
   "mimetype": "text/x-python",
   "name": "python",
   "nbconvert_exporter": "python",
   "pygments_lexer": "ipython3",
   "version": "3.13.2"
  }
 },
 "nbformat": 4,
 "nbformat_minor": 5
}
