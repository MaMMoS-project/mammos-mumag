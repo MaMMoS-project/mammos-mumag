{
 "cells": [
  {
   "cell_type": "markdown",
   "id": "cc245786-b017-47d2-aef2-39ea2db8713a",
   "metadata": {},
   "source": [
    "# Parameters input/output\n",
    "Parameter files and `Parameters` instances contain simulation parameters.\n",
    "\n",
    "- `mesh`\n",
    "    + `size`: size of mesh\n",
    "    + `scale`: scale of mesh\n",
    "\n",
    "- `initial state`\n",
    "    + `state`: name of state\n",
    "    + `mx`: $x$ component of $m$\n",
    "    + `my`: $y$ component of $m$\n",
    "    + `mz`: $z$ component of $m$\n",
    "\n",
    "- `field`\n",
    "    + `hmag_on`: whether the external field is on (1) or off (0)\n",
    "    + `hstart`: initial external field\n",
    "    + `hfinal`: final external field\n",
    "    + `hstep`: external field change step\n",
    "    + `hx`: $x$ component of the external field $h$\n",
    "    + `hy`: $y$ component of the external field $h$\n",
    "    + `hz`: $z$ component of the external field $h$\n",
    "\n",
    "- `minimizer`\n",
    "    + `iter_max`: max number of iterations\n",
    "    + `tol_fun`: tolerance of some function\n",
    "    + `tol_hmag_factor`: idk\n",
    "    + `tol_u`: idk\n",
    "    + `truncation`: truncation?\n",
    "    + `precond_iter`: preconditioning iterations\n",
    "    + `verbose`: verbosity from 0 (nothing) to ?\n"
   ]
  },
  {
   "cell_type": "markdown",
   "id": "541e0bd2-2be6-45c3-9934-f73df61c656d",
   "metadata": {},
   "source": [
    "## Initialization\n",
    "A `Parameters` instance is initialized with"
   ]
  },
  {
   "cell_type": "code",
   "execution_count": 1,
   "id": "4ab545d8-8428-477e-a2a2-97f413050a76",
   "metadata": {
    "vscode": {
     "languageId": "plaintext"
    }
   },
   "outputs": [],
   "source": [
    "from mmag import Parameters\n",
    "\n",
    "par = Parameters()"
   ]
  },
  {
   "cell_type": "markdown",
   "id": "3fcf716b-960d-465a-b7eb-1971eb9cdf00",
   "metadata": {},
   "source": [
    "## Read parameter files\n",
    "Material files can be read using the `read_p2` function:\n",
    "```python\n",
    "par.read_p2(\"data/cube.p2\")\n",
    "```\n",
    "\n",
    "Singular parameters can also be defined manually e.g. with\n",
    "```python\n",
    "par.hstart = 5.0\n",
    "par.hfinal = -3.0\n",
    "par.hstep = 0.001\n",
    "```\n"
   ]
  },
  {
   "cell_type": "code",
   "execution_count": 2,
   "id": "6441aeac-6bfa-4aff-8cc3-423a09133c76",
   "metadata": {},
   "outputs": [
    {
     "data": {
      "text/plain": [
       "{'size': 1e-09,\n",
       " 'scale': 0.0,\n",
       " 'state': 'mxyz',\n",
       " 'mx': 0.0,\n",
       " 'my': 0.0,\n",
       " 'mz': 1.0,\n",
       " 'hmag_on': 1,\n",
       " 'hstart': 1.0,\n",
       " 'hfinal': -1.0,\n",
       " 'hstep': -0.2,\n",
       " 'hx': 0.01745,\n",
       " 'hy': 0.0,\n",
       " 'hz': 0.99984,\n",
       " 'iter_max': 1000,\n",
       " 'precond_iter': 10,\n",
       " 'tol_fun': 1e-10,\n",
       " 'tol_hmag_factor': 1.0,\n",
       " 'tol_u': 1e-10,\n",
       " 'truncation': 5,\n",
       " 'verbose': 1}"
      ]
     },
     "execution_count": 2,
     "metadata": {},
     "output_type": "execute_result"
    }
   ],
   "source": [
    "par.read_p2(\"data/cube.p2\")\n",
    "par.__dict__"
   ]
  },
  {
   "cell_type": "markdown",
   "id": "5307c1f6-4b0e-46f2-98b9-35ccb87279fd",
   "metadata": {},
   "source": [
    "## Write parameter files\n",
    "We can export the parameter files either as `p2` or `yaml` (more standard human-readable format) with\n",
    "```python\n",
    "par.write_p2(\"data/cube.p2\")\n",
    "```\n",
    "or\n",
    "```python\n",
    "par.write_yaml(\"data/parameters.yaml\")"
   ]
  }
 ],
 "metadata": {
  "kernelspec": {
   "display_name": "Python 3 (ipykernel)",
   "language": "python",
   "name": "python3"
  },
  "language_info": {
   "codemirror_mode": {
    "name": "ipython",
    "version": 3
   },
   "file_extension": ".py",
   "mimetype": "text/x-python",
   "name": "python",
   "nbconvert_exporter": "python",
   "pygments_lexer": "ipython3",
   "version": "3.13.2"
  }
 },
 "nbformat": 4,
 "nbformat_minor": 5
}
