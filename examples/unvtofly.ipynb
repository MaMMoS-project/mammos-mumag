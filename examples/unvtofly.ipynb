{
 "cells": [
  {
   "cell_type": "markdown",
   "metadata": {},
   "source": [
    "# unvtofly: Conversion `unv` mesh to `fly` mesh"
   ]
  },
  {
   "cell_type": "markdown",
   "metadata": {},
   "source": [
    "The conversion simply needs the input `unv` file path, the output `fly` file path, and the dimensions to be excluded: for example, `[1,2]` will only take into consideration 3d cells objects."
   ]
  },
  {
   "cell_type": "code",
   "execution_count": null,
   "metadata": {},
   "outputs": [],
   "source": [
    "from mammos_mmag.tofly import convert\n",
    "\n",
    "unv_mesh = \"data/cube.unv\"\n",
    "fly_mesh = \"out/cube.fly\"\n",
    "convert(unv_mesh, fly_mesh, [1, 2])"
   ]
  }
 ],
 "metadata": {
  "kernelspec": {
   "display_name": "default",
   "language": "python",
   "name": "python3"
  },
  "language_info": {
   "codemirror_mode": {
    "name": "ipython",
    "version": 3
   },
   "file_extension": ".py",
   "mimetype": "text/x-python",
   "name": "python",
   "nbconvert_exporter": "python",
   "pygments_lexer": "ipython3",
   "version": "3.13.2"
  }
 },
 "nbformat": 4,
 "nbformat_minor": 4
}
