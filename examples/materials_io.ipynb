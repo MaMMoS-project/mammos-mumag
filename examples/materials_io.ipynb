{
 "cells": [
  {
   "cell_type": "markdown",
   "metadata": {},
   "source": [
    "# Materials input/output\n",
    "\n",
    "Materials are composed of different domains, each with their own:\n",
    "- `theta`: Angle of the magnetocrystalline anisotropy axis from the z-direction in radians.\n",
    "- `phi`: angle of the magnetocrystalline anisotropy axis from the x-direction in radians.\n",
    "- `K1`: Magnetocrystalline anisotropy constant in $J/m^3$.\n",
    "- `K2`: idk\n",
    "- `Js`: Spontaneous magnetic polarisation in $T$.\n",
    "- `A`: Exchange stiffness constant in $J/m$."
   ]
  },
  {
   "cell_type": "markdown",
   "metadata": {
    "jp-MarkdownHeadingCollapsed": true,
    "vscode": {
     "languageId": "plaintext"
    }
   },
   "source": [
    "## Material files\n",
    "At the moment two formats are accepted: `yaml` and `krn`.\n",
    "\n",
    "`yaml` material files look like this, where each block is a domain:\n",
    "\n",
    "```yaml\n",
    "-\n",
    "  theta: 0.0\n",
    "  phi: 0.0\n",
    "  K1: 4.5e+05\n",
    "  K2: 0.0\n",
    "  Js: 1.76\n",
    "  A: 1.3e-11\n",
    "-\n",
    "  theta: 0.0\n",
    "  phi: 0.0\n",
    "  K1: 0.0\n",
    "  K2: 0.0\n",
    "  Js: 0.0\n",
    "  A: 0.0\n",
    "-\n",
    "  theta: 0.0\n",
    "  phi: 0.0\n",
    "  K1: 0.0\n",
    "  K2: 0.0\n",
    "  Js: 0.0\n",
    "  A: 0.0\n",
    "```\n",
    "\n",
    "`krn` material files look like this, where each line is a domain:\n",
    "```text\n",
    "0.0  0.0  4.5e5  0.0  1.76  1.3e-11  1.0 0.0\n",
    "0.0  0.0  0.0    0.0  0.0   0.0      0.0 0.0\n",
    "0.0  0.0  0.0    0.0  0.0   0.0      0.0 0.0\n",
    "```"
   ]
  },
  {
   "cell_type": "markdown",
   "metadata": {},
   "source": [
    "## Initialization\n",
    "A material instance is initialized with"
   ]
  },
  {
   "cell_type": "code",
   "execution_count": 1,
   "metadata": {
    "vscode": {
     "languageId": "plaintext"
    }
   },
   "outputs": [],
   "source": [
    "from mmag import Materials\n",
    "\n",
    "mat = Materials()"
   ]
  },
  {
   "cell_type": "markdown",
   "metadata": {},
   "source": [
    "## Read material files\n",
    "Material files can be read using the `read_krn` or `read_yaml` functions:\n",
    "```python\n",
    "mat.read_krn(\"data/cube.krn\")\n",
    "```\n",
    "or\n",
    "```python\n",
    "mat.read_yaml(\"data/materials.yaml\")\n",
    "```\n",
    "\n",
    "But we can also add domains manually with\n",
    "```python\n",
    "mat.new_domain(\n",
    "    A=4e-7 * math.pi * 1.3e-11,\n",
    "    Js=1.76,\n",
    "    K1=4e-7 * math.pi * 4.5e+05,\n",
    "    K2=4e-7 * math.pi * 0.0,\n",
    "    phi=0.0,\n",
    "    theta=0.0,\n",
    ")\n",
    "```\n"
   ]
  },
  {
   "cell_type": "code",
   "execution_count": 2,
   "metadata": {},
   "outputs": [
    {
     "data": {
      "text/plain": [
       "[{'theta': 0.0,\n",
       "  'phi': 0.0,\n",
       "  'K1': 0.5654866776461628,\n",
       "  'K2': 0.0,\n",
       "  'Js': 1.76,\n",
       "  'A': 1.6336281798666924e-17},\n",
       " {'theta': 0.0, 'phi': 0.0, 'K1': 0.0, 'K2': 0.0, 'Js': 0.0, 'A': 0.0},\n",
       " {'theta': 0.0, 'phi': 0.0, 'K1': 0.0, 'K2': 0.0, 'Js': 0.0, 'A': 0.0}]"
      ]
     },
     "execution_count": 2,
     "metadata": {},
     "output_type": "execute_result"
    }
   ],
   "source": [
    "mat.read_krn(\"data/cube.krn\")\n",
    "mat.domains"
   ]
  },
  {
   "cell_type": "markdown",
   "metadata": {
    "jp-MarkdownHeadingCollapsed": true
   },
   "source": [
    "## Write material files\n",
    "In the same way, we can export the material files either as `krn` or `yaml` with\n",
    "```python\n",
    "mat.write_krn(\"data/cube.krn\")\n",
    "```\n",
    "or\n",
    "```python\n",
    "mat.write_yaml(\"data/materials.yaml\")"
   ]
  }
 ],
 "metadata": {
  "kernelspec": {
   "display_name": "Python 3 (ipykernel)",
   "language": "python",
   "name": "python3"
  },
  "language_info": {
   "codemirror_mode": {
    "name": "ipython",
    "version": 3
   },
   "file_extension": ".py",
   "mimetype": "text/x-python",
   "name": "python",
   "nbconvert_exporter": "python",
   "pygments_lexer": "ipython3",
   "version": "3.13.2"
  }
 },
 "nbformat": 4,
 "nbformat_minor": 4
}
