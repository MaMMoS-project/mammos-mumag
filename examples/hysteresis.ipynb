{
 "cells": [
  {
   "cell_type": "markdown",
   "id": "9296a9ce-b102-42e6-8499-5293e03ebc69",
   "metadata": {},
   "source": [
    "# Hysteresis loop simulation"
   ]
  },
  {
   "cell_type": "code",
   "execution_count": 1,
   "id": "d6761492-aa8d-44a7-bec8-fec0274ce023",
   "metadata": {},
   "outputs": [],
   "source": [
    "import mammos_entity as me\n",
    "import mammos_units as u\n",
    "import pandas as pd\n",
    "from mammos_mumag.materials import Materials\n",
    "from mammos_mumag.mesh import CUBE_20_nm\n",
    "from mammos_mumag.parameters import Parameters\n",
    "from mammos_mumag.simulation import Simulation"
   ]
  },
  {
   "cell_type": "markdown",
   "id": "abd2375e-964e-4aa9-8e1e-ad4260354f71",
   "metadata": {},
   "source": [
    "## Inputs"
   ]
  },
  {
   "cell_type": "markdown",
   "id": "d1a49026-5a60-4448-92b0-4acf0cf10c4f",
   "metadata": {},
   "source": [
    "### Geometry and Mesh\n",
    "\n",
    "We load one of the meshes coming with `mammos_mumag`, `CUBE_20_nm`, defining a 20 nanometer-side cube. The cube is surrounded by a shell and non-magnetic material in between the material cube and the shell. This is done is order to calculate demagnetisation field which decays to zero at infinity. For details: Imhoff, J. F., et al. \"An original solution for unbounded electromagnetic 2D-and 3D-problems throughout the finite element method.\" IEEE Transactions on Magnetics 26.5 (1990): 1659-1661. "
   ]
  },
  {
   "cell_type": "markdown",
   "id": "2ba5632b-36ac-4a67-999c-a1d8fa73dd7f",
   "metadata": {},
   "source": [
    "### Material parameters\n",
    "\n",
    "We define the material magnetic parameters separately for the 3 domains: the magnetic material, the non-magnetic material and the shell. Therefore the parameters strictly related to the magnetic material will be only defined on the first domain. The other domains, will have magnetic properties equal to zero."
   ]
  },
  {
   "cell_type": "code",
   "execution_count": 3,
   "id": "be3ed47b-ae03-4a68-aedb-08cfed197362",
   "metadata": {},
   "outputs": [],
   "source": [
    "mat = Materials(\n",
    "    domains=[\n",
    "        {  # cube\n",
    "            \"theta\": 0.0,\n",
    "            \"phi\": 0.0,\n",
    "            \"K1\": me.Ku(2805163.0590566983, unit=u.J / u.m**3),\n",
    "            \"K2\": me.Ku(0.0, unit=u.J / u.m**3),\n",
    "            \"Ms\": me.Ms(1189556.9164459957, unit=u.A / u.m),\n",
    "            \"A\": me.A(6.015043651663635e-12, unit=u.J / u.m),\n",
    "        },\n",
    "        {  # sphere\n",
    "            \"theta\": 0.0,\n",
    "            \"phi\": 0.0,\n",
    "            \"K1\": me.Ku(0.0, unit=u.J / u.m**3),\n",
    "            \"K2\": me.Ku(0.0, unit=u.J / u.m**3),\n",
    "            \"Ms\": me.Ms(0.0, unit=u.A / u.m),\n",
    "            \"A\": me.A(0.0, unit=u.J / u.m),\n",
    "        },\n",
    "        {  # shell\n",
    "            \"theta\": 0.0,\n",
    "            \"phi\": 0.0,\n",
    "            \"K1\": me.Ku(0.0, unit=u.J / u.m**3),\n",
    "            \"K2\": me.Ku(0.0, unit=u.J / u.m**3),\n",
    "            \"Ms\": me.Ms(0.0, unit=u.A / u.m),\n",
    "            \"A\": me.A(0.0, unit=u.J / u.m),\n",
    "        },\n",
    "    ],\n",
    ")"
   ]
  },
  {
   "cell_type": "markdown",
   "id": "1790b30e-1e47-4de4-98ca-4c5e2d3b5f55",
   "metadata": {},
   "source": [
    "### Simulation parameters\n",
    "\n",
    "We finally define all the simulation parameters we will use. For an exhaustive explanation of these parameters, check [the documentation](https://mammos-project.github.io/mammos/api/mammos_mumag.parameters.html#module-mammos_mumag.parameters)."
   ]
  },
  {
   "cell_type": "code",
   "execution_count": 4,
   "id": "05d7139b-0331-4fe7-8810-ee844d0a615a",
   "metadata": {},
   "outputs": [],
   "source": [
    "par = Parameters(\n",
    "    size=1.0e-9,\n",
    "    scale=0,\n",
    "    m_vect=[0, 0, 1],\n",
    "    hstart=10,\n",
    "    hfinal=-10,\n",
    "    hstep=-2,\n",
    "    h_vect=[0.01745, 0, 0.99984],\n",
    "    mstep=0.4,\n",
    "    mfinal=-1.2,\n",
    "    tol_fun=1e-10,\n",
    "    tol_hmag_factor=1,\n",
    "    precond_iter=10,\n",
    ")"
   ]
  },
  {
   "cell_type": "markdown",
   "id": "4879bf3b-f20c-451b-bcd7-84b7826a8b16",
   "metadata": {},
   "source": [
    "## Putting all inputs in a Simulation object\n",
    "\n",
    "To define a `Simulation` object, we need to define a mesh, a `Materials` object, and a `Parameters` object as shown above."
   ]
  },
  {
   "cell_type": "code",
   "execution_count": 5,
   "id": "f87be0b7-49f9-4bc5-9075-561b04cc6e81",
   "metadata": {},
   "outputs": [],
   "source": [
    "sim = Simulation(\n",
    "    mesh_filepath=CUBE_20_nm,\n",
    "    materials=mat,\n",
    "    parameters=par,\n",
    ")"
   ]
  },
  {
   "cell_type": "markdown",
   "id": "6053bd0b-449d-4366-9f60-8f8fff55a640",
   "metadata": {},
   "source": [
    "Note that all of this could also have been defined using file paths:\n",
    "```python\n",
    "sim = Simulation(\n",
    "    mesh_filepath=\"...\",\n",
    "    materials_filepath=\"...\",\n",
    "    parameters_filepath=\"...\",\n",
    ")\n",
    "```"
   ]
  },
  {
   "cell_type": "markdown",
   "id": "780e07ac-21ce-4eb3-9c44-6955994b8505",
   "metadata": {},
   "source": [
    "## Hysteresis loop calculation\n",
    "\n",
    "To compute the demagnetization curve, we use `sim.run_loop` method. Here, we can specify the optional argument `outdir` and `name`. While the first identifies the output directory where the input and output files will be stored (also where the script is executed), the `name` argument defines the names of the output files.\n",
    "\n",
    "The `outdir` argument can be used to give an ID to the simulation."
   ]
  },
  {
   "cell_type": "code",
   "execution_count": 6,
   "id": "6223142b-447d-494c-954d-aa08bf654d87",
   "metadata": {},
   "outputs": [],
   "source": [
    "sim.run_loop(outdir=\"out/loop\", name=\"cube\")"
   ]
  },
  {
   "cell_type": "markdown",
   "id": "d8314942-ab24-4d61-bdd2-6450d2edb877",
   "metadata": {},
   "source": [
    "The `out/loop` directory looks like:\n",
    "```console\n",
    "$> tree out/loop/\n",
    "out/loop/\n",
    "├── cube_0001.vtu\n",
    "├── cube_0002.vtu\n",
    "├── cube.dat\n",
    "├── cube.fly\n",
    "├── cube.krn\n",
    "├── cube.p2\n",
    "├── cube_stats.txt\n",
    "└── info.json\n",
    "```\n",
    "\n",
    "The file `cube.dat` has the following information:"
   ]
  },
  {
   "cell_type": "code",
   "execution_count": 7,
   "id": "6a027165-4bda-4b23-a657-b8d861d83bc4",
   "metadata": {},
   "outputs": [
    {
     "data": {
      "text/html": [
       "<div>\n",
       "<style scoped>\n",
       "    .dataframe tbody tr th:only-of-type {\n",
       "        vertical-align: middle;\n",
       "    }\n",
       "\n",
       "    .dataframe tbody tr th {\n",
       "        vertical-align: top;\n",
       "    }\n",
       "\n",
       "    .dataframe thead th {\n",
       "        text-align: right;\n",
       "    }\n",
       "</style>\n",
       "<table border=\"1\" class=\"dataframe\">\n",
       "  <thead>\n",
       "    <tr style=\"text-align: right;\">\n",
       "      <th></th>\n",
       "      <th>idx</th>\n",
       "      <th>mu0_Hext</th>\n",
       "      <th>polarisation</th>\n",
       "      <th>E</th>\n",
       "    </tr>\n",
       "  </thead>\n",
       "  <tbody>\n",
       "    <tr>\n",
       "      <th>0</th>\n",
       "      <td>1</td>\n",
       "      <td>10.0</td>\n",
       "      <td>1.494715</td>\n",
       "      <td>-1.442296e+07</td>\n",
       "    </tr>\n",
       "    <tr>\n",
       "      <th>1</th>\n",
       "      <td>1</td>\n",
       "      <td>8.0</td>\n",
       "      <td>1.494674</td>\n",
       "      <td>-1.204407e+07</td>\n",
       "    </tr>\n",
       "    <tr>\n",
       "      <th>2</th>\n",
       "      <td>1</td>\n",
       "      <td>6.0</td>\n",
       "      <td>1.494610</td>\n",
       "      <td>-9.665272e+06</td>\n",
       "    </tr>\n",
       "    <tr>\n",
       "      <th>3</th>\n",
       "      <td>1</td>\n",
       "      <td>4.0</td>\n",
       "      <td>1.494501</td>\n",
       "      <td>-7.286604e+06</td>\n",
       "    </tr>\n",
       "    <tr>\n",
       "      <th>4</th>\n",
       "      <td>1</td>\n",
       "      <td>2.0</td>\n",
       "      <td>1.494289</td>\n",
       "      <td>-4.908181e+06</td>\n",
       "    </tr>\n",
       "    <tr>\n",
       "      <th>5</th>\n",
       "      <td>1</td>\n",
       "      <td>0.0</td>\n",
       "      <td>1.493791</td>\n",
       "      <td>-2.530279e+06</td>\n",
       "    </tr>\n",
       "    <tr>\n",
       "      <th>6</th>\n",
       "      <td>1</td>\n",
       "      <td>-2.0</td>\n",
       "      <td>1.492077</td>\n",
       "      <td>-1.538731e+05</td>\n",
       "    </tr>\n",
       "    <tr>\n",
       "      <th>7</th>\n",
       "      <td>1</td>\n",
       "      <td>-4.0</td>\n",
       "      <td>1.463528</td>\n",
       "      <td>2.211992e+06</td>\n",
       "    </tr>\n",
       "    <tr>\n",
       "      <th>8</th>\n",
       "      <td>2</td>\n",
       "      <td>-6.0</td>\n",
       "      <td>-1.494610</td>\n",
       "      <td>-9.665272e+06</td>\n",
       "    </tr>\n",
       "  </tbody>\n",
       "</table>\n",
       "</div>"
      ],
      "text/plain": [
       "   idx  mu0_Hext  polarisation             E\n",
       "0    1      10.0      1.494715 -1.442296e+07\n",
       "1    1       8.0      1.494674 -1.204407e+07\n",
       "2    1       6.0      1.494610 -9.665272e+06\n",
       "3    1       4.0      1.494501 -7.286604e+06\n",
       "4    1       2.0      1.494289 -4.908181e+06\n",
       "5    1       0.0      1.493791 -2.530279e+06\n",
       "6    1      -2.0      1.492077 -1.538731e+05\n",
       "7    1      -4.0      1.463528  2.211992e+06\n",
       "8    2      -6.0     -1.494610 -9.665272e+06"
      ]
     },
     "execution_count": 7,
     "metadata": {},
     "output_type": "execute_result"
    }
   ],
   "source": [
    "pd.read_csv(\"out/loop/cube.dat\", delimiter=\" \", names=[\"idx\", \"mu0_Hext\", \"polarisation\", \"E\"])"
   ]
  },
  {
   "cell_type": "markdown",
   "id": "11f8c612-96f6-479b-8e30-20d7fb2674c4",
   "metadata": {},
   "source": [
    "- `idx`: the id of the magnetisation vector field appended to the `vtu` file name. The `vtu` files contain the magnetisation corresponding to the row where the given value of `idx` was first observed.\n",
    "- `mu0 Hext`: the value of $\\mu_0 H_{\\mathsf{ext}}$ (in T) where $\\mu_0$ is the permability of vacuum and $H_{\\mathsf{ext}}$ is the value of the external field.\n",
    "- `pol`: the componenent of magnetic polarisation (in T) parallel to the direction of the external field.\n",
    "- `E`: the energy density (in J/m$^3$) of the current state."
   ]
  },
  {
   "cell_type": "markdown",
   "id": "fa022b66-d010-4045-ab03-3a043f9f25da",
   "metadata": {},
   "source": [
    "Further execution statistics are found in file `cube_stats.txt`"
   ]
  },
  {
   "cell_type": "code",
   "execution_count": 8,
   "id": "e71f4825-b817-48ed-8670-49636c223def",
   "metadata": {},
   "outputs": [
    {
     "name": "stdout",
     "output_type": "stream",
     "text": [
      "Memory before escript2jax: 194.82421875 MB.\n",
      "Memory after  escript2jax: 424.796875 MB.\n",
      "Memory after garbage collection: 424.796875 MB.\n"
     ]
    }
   ],
   "source": [
    "with open(\"out/loop/cube_stats.txt\") as file:\n",
    "    print(file.read())"
   ]
  },
  {
   "cell_type": "markdown",
   "id": "1dfe195b-8858-4e9f-be01-14e130cc8762",
   "metadata": {},
   "source": [
    "> **NOTE:** It is important to note that there is a convenience function [mammos_mumag.hysteresis.run](https://mammos-project.github.io/mammos/examples/mammos-mumag/quickstart.html#mammos_mumag-quickstart) that does not require the user to input detailed material and simulation parameters to run hysteresis simulations."
   ]
  }
 ],
 "metadata": {
  "kernelspec": {
   "display_name": "Python 3 (ipykernel)",
   "language": "python",
   "name": "python3"
  },
  "language_info": {
   "codemirror_mode": {
    "name": "ipython",
    "version": 3
   },
   "file_extension": ".py",
   "mimetype": "text/x-python",
   "name": "python",
   "nbconvert_exporter": "python",
   "pygments_lexer": "ipython3",
   "version": "3.11.0"
  },
  "widgets": {
   "application/vnd.jupyter.widget-state+json": {
    "state": {},
    "version_major": 2,
    "version_minor": 0
   }
  }
 },
 "nbformat": 4,
 "nbformat_minor": 5
}
