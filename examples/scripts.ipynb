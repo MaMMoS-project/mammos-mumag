{
 "cells": [
  {
   "cell_type": "markdown",
   "metadata": {},
   "source": [
    "# Scripts"
   ]
  },
  {
   "cell_type": "markdown",
   "metadata": {},
   "source": [
    "In this notebook we present all possible scripts."
   ]
  },
  {
   "cell_type": "code",
   "execution_count": 1,
   "metadata": {},
   "outputs": [],
   "source": [
    "from mammos_mmag.simulation import Simulation\n",
    "\n",
    "sim = Simulation()"
   ]
  },
  {
   "cell_type": "markdown",
   "metadata": {},
   "source": [
    "We load a cube enclosed with a sphere. This sphere is embedded in a further spherical shell.\n",
    "The `cube.krn` file contains three lines: the first line is the cube, with nonzero values; the other two lines represent those two regions, with all zero values."
   ]
  },
  {
   "cell_type": "code",
   "execution_count": 2,
   "metadata": {},
   "outputs": [],
   "source": [
    "sim.mesh_path = \"data/cube.fly\"\n",
    "sim.materials.read_yaml(\"data/materials.yaml\")\n",
    "sim.parameters.read(\"data/parameters.yaml\")"
   ]
  },
  {
   "cell_type": "markdown",
   "metadata": {},
   "source": [
    "When we run a script we can specify the optional variables `outdir` and `name`. While the first identifies the output directory where the input and output files will be store (and where the script is executed), the `name` variable defines the output file names."
   ]
  },
  {
   "cell_type": "markdown",
   "metadata": {},
   "source": [
    "## Show the mesh and the materials\n",
    "\n",
    "To create the `vtk` file for the visualisation of the material properties we can use the script `materials`."
   ]
  },
  {
   "cell_type": "code",
   "execution_count": 3,
   "metadata": {},
   "outputs": [
    {
     "name": "stdout",
     "output_type": "stream",
     "text": [
      "materials:\n",
      "read mesh from cube.fly\n"
     ]
    }
   ],
   "source": [
    "sim.run_materials(outdir=\"out/materials\", name=\"cube\")"
   ]
  },
  {
   "cell_type": "markdown",
   "metadata": {},
   "source": [
    "## Compute the magnetostatic field\n",
    "\n",
    "To create the `vtk` file for visualisation of the magnetic scalar potential and the magnetic field we use the script `hmag`.\n",
    "With linear basis function for the magnetic scalar potential $u$, the magnetostatic field $h = - \\nabla u$ is defined at the finite elements. By smoothing the field can be transfered to the nodes of the finite element mesh. This is `h_at_nodes`.\n",
    "\n",
    "The software also gives the magnetostatic energy density computed with finite elements and compares it with the analytic solution. \n",
    "Three energy values are compared:\n",
    "- `from field`: $\\frac{1}{2} \\int \\frac{h m}{V}$, where $V$ is the volume.\n",
    "- `from_gradient`: $\\frac{1}{2} \\sum_i m_i \\cdot g_i$, where $m_i$ and $g_i$ are the unit vector of the magnetization and the gradient of the energy normalized by the volume of the energy with respect to $m_i$ at the nodes of the finite element mesh.\n",
    "- `analytic`: $J_s^2 / (6 \\mu_0)$"
   ]
  },
  {
   "cell_type": "code",
   "execution_count": 4,
   "metadata": {},
   "outputs": [
    {
     "name": "stdout",
     "output_type": "stream",
     "text": [
      "read mesh from cube.fly\n",
      "apply spherical shell transformation\n",
      "create uniformly magnetised state\n",
      "\n",
      "\n",
      "magnetostatic energy density of uniformly magnetized cube\n",
      "from field    (J/m^3) 323030.6036230678\n",
      "from gradient (J/m^3) 323030.6036230672\n",
      "analytic      (J/m^3) 343787.94003580953\n"
     ]
    }
   ],
   "source": [
    "sim.run_hmag(outdir=\"out/hmag\", name=\"cube\")"
   ]
  },
  {
   "cell_type": "markdown",
   "metadata": {},
   "source": [
    "## exchange and anisotropy energy\n",
    "\n",
    "To test the computation of the exchange and anisotropy energy density we can use the script `exani`.\n",
    "\n",
    "This gives the exchange energy density of a vortex in the $xy$-plane and the anistropy energy density in the uniformly magnetized state.\n",
    "Here we have placed the anistropy direction paralle to to the $z$-axis. The anisotropy energy density is calculated as $-K (m \\cdot k)^2$  where $m$ is the unit vector of magnetization and $k$ is the anisotropy direction. $K$ is the magnetocrystalline anisotropy constant"
   ]
  },
  {
   "cell_type": "code",
   "execution_count": 5,
   "metadata": {},
   "outputs": [
    {
     "name": "stdout",
     "output_type": "stream",
     "text": [
      "read mesh from cube.fly\n",
      "\n",
      "\n",
      "exchange energy density of a vortex on a, b plane\n",
      "energy from gradient (J/m^3) 983624.0554480732\n",
      "analytic             (J/m^3) 986960.4401089362\n",
      "create uniformly magnetised state\n",
      "\n",
      "\n",
      "magnetocrystalline anisotropy energy density of uniformly\n",
      "magnetized sample in direction [0.0, 0.0, 1.0]\n",
      "from gradient (J/m^3) -4900000.000646964\n",
      "analytic      (J/m^3) -4900000.00064696\n"
     ]
    }
   ],
   "source": [
    "sim.run_exani(outdir=\"out/exani\", name=\"cube\")"
   ]
  },
  {
   "cell_type": "markdown",
   "metadata": {},
   "source": [
    "## Zeeman energy\n",
    "\n",
    "The script `external` calculates the Zeeman energy density in the external field by finite elements and analytically."
   ]
  },
  {
   "cell_type": "code",
   "execution_count": 6,
   "metadata": {},
   "outputs": [
    {
     "name": "stdout",
     "output_type": "stream",
     "text": [
      "tolerances: optimality tolerance 1e-10   hmag 1e-10\n",
      "read mesh from cube.fly\n",
      "create uniformly magnetised state\n",
      "\n",
      "\n",
      "Zeeman energy density for an external field\n",
      "of mu_0 Hext  (T)     1.2\n",
      "from gradient (J/m^3) -1537202.6523594826\n",
      "analytic      (J/m^3) -1537202.6523594814\n"
     ]
    }
   ],
   "source": [
    "sim.run_external(outdir=\"out/external\", name=\"cube\")"
   ]
  },
  {
   "cell_type": "markdown",
   "metadata": {},
   "source": [
    "## jax implementation\n",
    "\n",
    "The above tools checked the energy calculation with the finite element backend. \n",
    "From the finite element backend system matrices are generated for micromagnetic simulations. \n",
    "The script `mapping` is used to test the energy calculations with matrices.\n",
    "\n",
    "The `mmag` software uses sparse matrix methods from `jax`."
   ]
  },
  {
   "cell_type": "code",
   "execution_count": 7,
   "metadata": {},
   "outputs": [
    {
     "name": "stdout",
     "output_type": "stream",
     "text": [
      "\n",
      "\n",
      "MAP FINITE ELEMENT BACKEND (esys-escript) TO JAX \n",
      "\n",
      "Memory before escript2jax        183.1015625 MB\n",
      "tolerances: optimality tolerance 1e-10   hmag 1e-10\n",
      "read mesh from cube.fly\n",
      "create uniformly magnetised state\n",
      "apply spherical shell transformation\n",
      "\n",
      "Zeeman energy density for an external field\n",
      "of mu_0 Hext     (T)     1.2\n",
      "with jax backend (J/m^3) -1537201.6\n",
      "analytic         (J/m^3) -1537202.6523594814\n",
      "\n",
      "exchange energy density of a vortex on a, b plane\n",
      "with jax backend (J/m^3) 983624.3\n",
      "analytic         (J/m^3) 986960.4401089362\n",
      "\n",
      "magnetocrystalline anisotropy energy density of uniformly\n",
      "magnetized sample in direction [0.0, 0.0, 1.0]\n",
      "from gradient (J/m^3) -4899996.0\n",
      "analytic      (J/m^3) -4900000.00064696\n",
      "\n",
      "magnetostatic energy density of uniformly magnetized cube\n",
      "with jax backend (J/m^3) 323030.47\n",
      "analytic         (J/m^3) 343787.94003580953\n",
      "\n",
      "\n",
      "Memory after  escript2jax        454.28125 MB\n",
      "Memory after  garbage collection 454.28125 MB\n",
      "\n",
      "\n",
      "COMPUTE TOTAL ENERGY\n",
      "\n",
      "--> timing and statistics\n",
      "elaplsed time             0.3142814636230469\n",
      "iterations                0\n",
      "  function calls          1\n",
      "\n",
      "energy density of uniformly magnetized state\n",
      "with jax backend (J/m^3) -6114167.5\n",
      "sum of terms     (J/m^3) -6114167.5\n"
     ]
    }
   ],
   "source": [
    "sim.run_mapping(outdir=\"out/mapping\", name=\"cube\")"
   ]
  },
  {
   "cell_type": "markdown",
   "metadata": {},
   "source": [
    "## Storing sparse matrices\n",
    "\n",
    "The sparse matrices used for computation can be stored and reused for simulations with the same finite element mesh. To store the matrices use the script `store`."
   ]
  },
  {
   "cell_type": "code",
   "execution_count": 8,
   "metadata": {},
   "outputs": [
    {
     "name": "stdout",
     "output_type": "stream",
     "text": [
      "tolerances: optimality tolerance 1e-10   hmag 1e-10\n",
      "read mesh from cube.fly\n",
      "create uniformly magnetised state\n",
      "apply spherical shell transformation\n"
     ]
    }
   ],
   "source": [
    "sim.run_store(outdir=\"out/store\", name=\"cube\")"
   ]
  },
  {
   "cell_type": "markdown",
   "metadata": {},
   "source": [
    "## Demagnetization curve - Hysteresis Loop\n",
    "\n",
    "To compute the demagnetization curve we use the script `loop`.\n",
    "\n",
    "This creates the file `cube.dat` which gives the demagnetization curve. The columns of the file are:\n",
    "- `vtk number`: the number of the `vtk` file that corresponds to the field and magnetic polarisation values in the line.\n",
    "- `mu0 Hext`: the value of $\\mu_0 H_{\\mathsf{ext}}$ ($T$) where $\\mu_0$ is the permability of vacuum and $H_{\\mathsf{ext}}$ is the external value of the external field.\n",
    "- `polarisation`: the componenent of magnetic polarisation ($T$) parallel to the direction of the external field.\n",
    "- `energy density`: the energy density ($J/m^3$) of the current state."
   ]
  },
  {
   "cell_type": "code",
   "execution_count": 9,
   "metadata": {},
   "outputs": [
    {
     "name": "stdout",
     "output_type": "stream",
     "text": [
      "Memory before conversion to jax  182.97265625 MB\n",
      "tolerances: optimality tolerance 1e-10   hmag 1e-10\n",
      "read mesh from cube.fly\n",
      "create uniformly magnetised state\n",
      "apply spherical shell transformation\n",
      "Memory after  conversion to jax  448.1640625 MB\n",
      "Memory after  garbage collection 448.1640625 MB\n",
      "--> demag 1.0 1.6096814901982122\n",
      "--> demag 0.8 1.6096688701022317\n",
      "--> demag 0.6000000000000001 1.6096554325587062\n",
      "--> demag 0.4000000000000001 1.609641101269194\n",
      "--> demag 0.20000000000000007 1.6096257900457391\n",
      "--> demag 5.551115123125783e-17 1.6096094032620407\n",
      "--> demag -0.19999999999999996 1.6095918323404783\n",
      "--> demag -0.39999999999999997 1.6095729541997779\n",
      "--> demag -0.6 1.6095526287879989\n",
      "--> demag -0.8 1.6095306961070197\n",
      "--> demag -1.0 1.6095069726689015\n",
      "\n",
      "--> done\n",
      "elaplsed time             89.08133602142334\n",
      "iterations                32\n",
      "  function calls          75\n"
     ]
    }
   ],
   "source": [
    "sim.run_loop(outdir=\"out/loop\", name=\"cube\")"
   ]
  }
 ],
 "metadata": {
  "kernelspec": {
   "display_name": "Python 3 (ipykernel)",
   "language": "python",
   "name": "python3"
  },
  "language_info": {
   "codemirror_mode": {
    "name": "ipython",
    "version": 3
   },
   "file_extension": ".py",
   "mimetype": "text/x-python",
   "name": "python",
   "nbconvert_exporter": "python",
   "pygments_lexer": "ipython3",
   "version": "3.11.11"
  }
 },
 "nbformat": 4,
 "nbformat_minor": 4
}
