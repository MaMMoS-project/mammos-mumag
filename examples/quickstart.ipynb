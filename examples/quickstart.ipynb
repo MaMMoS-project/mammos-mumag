{
 "cells": [
  {
   "cell_type": "markdown",
   "metadata": {},
   "source": [
    "# Hysteresis loop"
   ]
  },
  {
   "cell_type": "code",
   "execution_count": 1,
   "metadata": {},
   "outputs": [],
   "source": [
    "import mammos_entity as me\n",
    "import mammos_units as u\n",
    "from mammos_mumag import hysteresis_loop, mesh"
   ]
  },
  {
   "cell_type": "markdown",
   "metadata": {},
   "source": [
    "TODO Explain"
   ]
  },
  {
   "cell_type": "code",
   "execution_count": 2,
   "metadata": {},
   "outputs": [],
   "source": [
    "loop_results = hysteresis_loop.run(\n",
    "    mesh_filepath=mesh.CUBE_20_nm,\n",
    "    Ms=me.Ms(1280000, unit=\"A/m\"),\n",
    "    A=me.A(7.7e-12, unit=\"J/m\"),\n",
    "    K1=me.Ku(4300000, unit=\"J/m3\"),\n",
    "    hstart=(7 * u.T).to(u.A / u.m, equivalencies=u.magnetic_flux_field()),\n",
    "    hfinal=(-10 * u.T).to(u.A / u.m, equivalencies=u.magnetic_flux_field()),\n",
    "    hnsteps=20,\n",
    ")"
   ]
  },
  {
   "cell_type": "markdown",
   "metadata": {},
   "source": [
    "The hysteresis loop in a `DataFrame` format is available via the `dataframe` attribute:"
   ]
  },
  {
   "cell_type": "code",
   "execution_count": 3,
   "metadata": {},
   "outputs": [
    {
     "data": {
      "text/html": [
       "<div>\n",
       "<style scoped>\n",
       "    .dataframe tbody tr th:only-of-type {\n",
       "        vertical-align: middle;\n",
       "    }\n",
       "\n",
       "    .dataframe tbody tr th {\n",
       "        vertical-align: top;\n",
       "    }\n",
       "\n",
       "    .dataframe thead th {\n",
       "        text-align: right;\n",
       "    }\n",
       "</style>\n",
       "<table border=\"1\" class=\"dataframe\">\n",
       "  <thead>\n",
       "    <tr style=\"text-align: right;\">\n",
       "      <th></th>\n",
       "      <th>idx</th>\n",
       "      <th>mu0_Hext</th>\n",
       "      <th>polarisation</th>\n",
       "      <th>E</th>\n",
       "    </tr>\n",
       "  </thead>\n",
       "  <tbody>\n",
       "    <tr>\n",
       "      <th>0</th>\n",
       "      <td>1</td>\n",
       "      <td>7.00</td>\n",
       "      <td>1.608293</td>\n",
       "      <td>-1.293859e+07</td>\n",
       "    </tr>\n",
       "    <tr>\n",
       "      <th>1</th>\n",
       "      <td>1</td>\n",
       "      <td>6.15</td>\n",
       "      <td>1.608267</td>\n",
       "      <td>-1.185073e+07</td>\n",
       "    </tr>\n",
       "    <tr>\n",
       "      <th>2</th>\n",
       "      <td>1</td>\n",
       "      <td>5.30</td>\n",
       "      <td>1.608235</td>\n",
       "      <td>-1.076290e+07</td>\n",
       "    </tr>\n",
       "    <tr>\n",
       "      <th>3</th>\n",
       "      <td>1</td>\n",
       "      <td>4.45</td>\n",
       "      <td>1.608196</td>\n",
       "      <td>-9.675087e+06</td>\n",
       "    </tr>\n",
       "    <tr>\n",
       "      <th>4</th>\n",
       "      <td>1</td>\n",
       "      <td>3.60</td>\n",
       "      <td>1.608148</td>\n",
       "      <td>-8.587305e+06</td>\n",
       "    </tr>\n",
       "    <tr>\n",
       "      <th>5</th>\n",
       "      <td>1</td>\n",
       "      <td>2.75</td>\n",
       "      <td>1.608086</td>\n",
       "      <td>-7.499560e+06</td>\n",
       "    </tr>\n",
       "    <tr>\n",
       "      <th>6</th>\n",
       "      <td>1</td>\n",
       "      <td>1.90</td>\n",
       "      <td>1.608008</td>\n",
       "      <td>-6.411862e+06</td>\n",
       "    </tr>\n",
       "    <tr>\n",
       "      <th>7</th>\n",
       "      <td>1</td>\n",
       "      <td>1.05</td>\n",
       "      <td>1.607903</td>\n",
       "      <td>-5.324226e+06</td>\n",
       "    </tr>\n",
       "    <tr>\n",
       "      <th>8</th>\n",
       "      <td>1</td>\n",
       "      <td>0.20</td>\n",
       "      <td>1.607761</td>\n",
       "      <td>-4.236672e+06</td>\n",
       "    </tr>\n",
       "    <tr>\n",
       "      <th>9</th>\n",
       "      <td>1</td>\n",
       "      <td>-0.65</td>\n",
       "      <td>1.607561</td>\n",
       "      <td>-3.149232e+06</td>\n",
       "    </tr>\n",
       "    <tr>\n",
       "      <th>10</th>\n",
       "      <td>1</td>\n",
       "      <td>-1.50</td>\n",
       "      <td>1.607264</td>\n",
       "      <td>-2.061958e+06</td>\n",
       "    </tr>\n",
       "    <tr>\n",
       "      <th>11</th>\n",
       "      <td>1</td>\n",
       "      <td>-2.35</td>\n",
       "      <td>1.606797</td>\n",
       "      <td>-9.749356e+05</td>\n",
       "    </tr>\n",
       "    <tr>\n",
       "      <th>12</th>\n",
       "      <td>1</td>\n",
       "      <td>-3.20</td>\n",
       "      <td>1.605997</td>\n",
       "      <td>1.116717e+05</td>\n",
       "    </tr>\n",
       "    <tr>\n",
       "      <th>13</th>\n",
       "      <td>1</td>\n",
       "      <td>-4.05</td>\n",
       "      <td>1.604432</td>\n",
       "      <td>1.197518e+06</td>\n",
       "    </tr>\n",
       "    <tr>\n",
       "      <th>14</th>\n",
       "      <td>1</td>\n",
       "      <td>-4.90</td>\n",
       "      <td>1.600558</td>\n",
       "      <td>2.281689e+06</td>\n",
       "    </tr>\n",
       "    <tr>\n",
       "      <th>15</th>\n",
       "      <td>1</td>\n",
       "      <td>-5.75</td>\n",
       "      <td>1.579793</td>\n",
       "      <td>3.359994e+06</td>\n",
       "    </tr>\n",
       "    <tr>\n",
       "      <th>16</th>\n",
       "      <td>2</td>\n",
       "      <td>-6.60</td>\n",
       "      <td>-1.608281</td>\n",
       "      <td>-1.242665e+07</td>\n",
       "    </tr>\n",
       "  </tbody>\n",
       "</table>\n",
       "</div>"
      ],
      "text/plain": [
       "    idx  mu0_Hext  polarisation             E\n",
       "0     1      7.00      1.608293 -1.293859e+07\n",
       "1     1      6.15      1.608267 -1.185073e+07\n",
       "2     1      5.30      1.608235 -1.076290e+07\n",
       "3     1      4.45      1.608196 -9.675087e+06\n",
       "4     1      3.60      1.608148 -8.587305e+06\n",
       "5     1      2.75      1.608086 -7.499560e+06\n",
       "6     1      1.90      1.608008 -6.411862e+06\n",
       "7     1      1.05      1.607903 -5.324226e+06\n",
       "8     1      0.20      1.607761 -4.236672e+06\n",
       "9     1     -0.65      1.607561 -3.149232e+06\n",
       "10    1     -1.50      1.607264 -2.061958e+06\n",
       "11    1     -2.35      1.606797 -9.749356e+05\n",
       "12    1     -3.20      1.605997  1.116717e+05\n",
       "13    1     -4.05      1.604432  1.197518e+06\n",
       "14    1     -4.90      1.600558  2.281689e+06\n",
       "15    1     -5.75      1.579793  3.359994e+06\n",
       "16    2     -6.60     -1.608281 -1.242665e+07"
      ]
     },
     "execution_count": 3,
     "metadata": {},
     "output_type": "execute_result"
    }
   ],
   "source": [
    "loop_results.dataframe"
   ]
  },
  {
   "cell_type": "markdown",
   "metadata": {},
   "source": [
    "To plot the hysteresis loop (including the available configurations), run"
   ]
  },
  {
   "cell_type": "code",
   "execution_count": 4,
   "metadata": {},
   "outputs": [
    {
     "data": {
      "image/png": "[encoded data removed]",
      "text/plain": [
       "<Figure size 640x480 with 1 Axes>"
      ]
     },
     "metadata": {},
     "output_type": "display_data"
    }
   ],
   "source": [
    "loop_results.plot(configuration_marks=True)"
   ]
  }
 ],
 "metadata": {
  "kernelspec": {
   "display_name": "Python 3 (ipykernel)",
   "language": "python",
   "name": "python3"
  },
  "language_info": {
   "codemirror_mode": {
    "name": "ipython",
    "version": 3
   },
   "file_extension": ".py",
   "mimetype": "text/x-python",
   "name": "python",
   "nbconvert_exporter": "python",
   "pygments_lexer": "ipython3",
   "version": "3.11.12"
  }
 },
 "nbformat": 4,
 "nbformat_minor": 4
}
