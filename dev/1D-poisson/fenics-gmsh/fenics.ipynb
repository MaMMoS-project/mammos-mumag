{
 "cells": [
  {
   "cell_type": "markdown",
   "id": "0bba88cf-c5fc-4306-a997-349e4f76ba42",
   "metadata": {},
   "source": [
    "# FEniCS + loading tagged meshes"
   ]
  },
  {
   "cell_type": "code",
   "execution_count": 1,
   "id": "98fb4db5-3562-49be-a17c-88f333b0af34",
   "metadata": {},
   "outputs": [],
   "source": [
    "from dolfinx import default_scalar_type, fem, mesh\n",
    "from dolfinx.fem.petsc import LinearProblem\n",
    "from dolfinx.io import gmshio\n",
    "import gmsh\n",
    "from mpi4py import MPI\n",
    "import numpy as np\n",
    "import ufl"
   ]
  },
  {
   "cell_type": "markdown",
   "id": "62fda070-54dc-490c-a990-969f0a74dc1e",
   "metadata": {},
   "source": [
    "## Load previously generated mesh"
   ]
  },
  {
   "cell_type": "markdown",
   "id": "592cd994-06c0-40b1-b9e2-03371efa874a",
   "metadata": {},
   "source": [
    "We load the mesh previously generated."
   ]
  },
  {
   "cell_type": "code",
   "execution_count": 2,
   "id": "08b715a1-aee0-4cb2-94ca-4ed76d082d2a",
   "metadata": {},
   "outputs": [
    {
     "name": "stdout",
     "output_type": "stream",
     "text": [
      "Info    : Reading 'interval.msh'...\n",
      "Info    : 5 entities\n",
      "Info    : 101 nodes\n",
      "Info    : 100 elements\n",
      "Info    : Done reading 'interval.msh'\n"
     ]
    }
   ],
   "source": [
    "I, cell_tags, facet_tags = gmshio.read_from_msh(\"interval.msh\", MPI.COMM_WORLD)"
   ]
  },
  {
   "cell_type": "markdown",
   "id": "99693054-b024-4cae-ab86-162b8ec5bf2c",
   "metadata": {},
   "source": [
    "`I` is the interval mesh."
   ]
  },
  {
   "cell_type": "code",
   "execution_count": 3,
   "id": "670948f2-fa53-4b61-9e64-addfeb03f47c",
   "metadata": {},
   "outputs": [
    {
     "data": {
      "text/plain": [
       "<dolfinx.mesh.Mesh at 0x7f1c13b10ec0>"
      ]
     },
     "execution_count": 3,
     "metadata": {},
     "output_type": "execute_result"
    }
   ],
   "source": [
    "I"
   ]
  },
  {
   "cell_type": "code",
   "execution_count": 4,
   "id": "a54e0591-fe7f-46bc-9d00-2a9f92880a4b",
   "metadata": {},
   "outputs": [
    {
     "data": {
      "text/plain": [
       "array([0.  , 0.01, 0.02, 0.03, 0.04, 0.05, 0.06, 0.07, 0.08, 0.09, 0.1 ,\n",
       "       0.11, 0.12, 0.13, 0.14, 0.15, 0.16, 0.17, 0.18, 0.19, 0.2 , 0.21,\n",
       "       0.22, 0.23, 0.24, 0.25, 0.26, 0.27, 0.28, 0.29, 0.3 , 0.31, 0.32,\n",
       "       0.33, 0.34, 0.35, 0.36, 0.37, 0.38, 0.39, 0.4 , 0.41, 0.42, 0.43,\n",
       "       0.44, 0.45, 0.46, 0.47, 0.48, 0.49, 0.5 , 0.51, 0.52, 0.53, 0.54,\n",
       "       0.55, 0.56, 0.57, 0.58, 0.59, 0.6 , 0.61, 0.62, 0.63, 0.64, 0.65,\n",
       "       0.66, 0.67, 0.68, 0.69, 0.7 , 0.71, 0.72, 0.73, 0.74, 0.75, 0.76,\n",
       "       0.77, 0.78, 0.79, 0.8 , 0.81, 0.82, 0.83, 0.84, 0.85, 0.86, 0.87,\n",
       "       0.88, 0.89, 0.9 , 0.91, 0.92, 0.93, 0.94, 0.95, 0.96, 0.97, 0.98,\n",
       "       0.99, 1.  ])"
      ]
     },
     "execution_count": 4,
     "metadata": {},
     "output_type": "execute_result"
    }
   ],
   "source": [
    "I_x = I.geometry.x[:,0]\n",
    "I_x"
   ]
  },
  {
   "cell_type": "markdown",
   "id": "76569500-01f6-4c8c-b55c-b5e84ef52cef",
   "metadata": {},
   "source": [
    "`material_tags` contains all the tags defined in the mesh."
   ]
  },
  {
   "cell_type": "code",
   "execution_count": 5,
   "id": "c478284e-fb8f-4ab4-a0e8-cad0adab874d",
   "metadata": {},
   "outputs": [
    {
     "data": {
      "text/plain": [
       "array([1, 2], dtype=int32)"
      ]
     },
     "execution_count": 5,
     "metadata": {},
     "output_type": "execute_result"
    }
   ],
   "source": [
    "material_tags = np.unique(cell_tags.values)\n",
    "material_tags"
   ]
  },
  {
   "cell_type": "markdown",
   "id": "200365d8-fc95-4da8-bfaa-01359a72ca76",
   "metadata": {},
   "source": [
    "## Function space, boundary conditions"
   ]
  },
  {
   "cell_type": "markdown",
   "id": "acc2be8f-9e68-449d-8f11-9d52494bc5e6",
   "metadata": {},
   "source": [
    "We create a function space on the mesh."
   ]
  },
  {
   "cell_type": "code",
   "execution_count": 6,
   "id": "18e69672-2881-419a-a99a-d3e5ef3ffde9",
   "metadata": {},
   "outputs": [],
   "source": [
    "V = fem.functionspace(I, ('Lagrange', 1))"
   ]
  },
  {
   "cell_type": "code",
   "execution_count": 7,
   "id": "bb19cfe9-98c3-435d-9a08-29cb557e3610",
   "metadata": {},
   "outputs": [],
   "source": [
    "dofs_L = fem.locate_dofs_geometrical(V, lambda x: np.isclose(x[0], 0))\n",
    "dofs_R = fem.locate_dofs_geometrical(V, lambda x: np.isclose(x[0], 1))\n",
    "bc_L = fem.dirichletbc(default_scalar_type(0), dofs_L, V)\n",
    "bc_R = fem.dirichletbc(default_scalar_type(10), dofs_R, V)\n",
    "bcs = [bc_L, bc_R]"
   ]
  },
  {
   "cell_type": "markdown",
   "id": "df991c19-6886-46e9-9afd-e9e631102cf8",
   "metadata": {},
   "source": [
    "## Functions"
   ]
  },
  {
   "cell_type": "code",
   "execution_count": 8,
   "id": "74fe0742-ce30-417d-a28c-436562c78c66",
   "metadata": {},
   "outputs": [],
   "source": [
    "u = ufl.TrialFunction(V)\n",
    "phi = ufl.TestFunction(V)"
   ]
  },
  {
   "cell_type": "markdown",
   "id": "c267d1e7-cb4d-478e-b56e-bd9101b68f3e",
   "metadata": {},
   "source": [
    "## Spacially-dependent parameters"
   ]
  },
  {
   "cell_type": "code",
   "execution_count": 9,
   "id": "d03fe7fa-81ac-4c94-868e-61a2fff7f610",
   "metadata": {},
   "outputs": [],
   "source": [
    "sigma = fem.Function(V)\n",
    "sigma_list = [\n",
    "    1,  # value for tag 1\n",
    "    2,  # value for tag 2\n",
    "]\n",
    "for tag in material_tags:\n",
    "    cells = cell_tags.find(tag)\n",
    "    if tag == 1:\n",
    "        s_ = sigma_list[0]\n",
    "    if tag == 2:\n",
    "        s_ = sigma_list[1]\n",
    "    sigma.x.array[cells] = np.full_like(cells, s_, dtype=default_scalar_type)"
   ]
  },
  {
   "cell_type": "markdown",
   "id": "3fb20f21-3a3f-4b98-ac7c-b66d82b598c5",
   "metadata": {},
   "source": [
    "## Solve problem"
   ]
  },
  {
   "cell_type": "code",
   "execution_count": 10,
   "id": "71c8e1ba-7b8b-4733-9281-f5ba0b6a5635",
   "metadata": {},
   "outputs": [],
   "source": [
    "lhs = ufl.inner(sigma * ufl.grad(u), ufl.grad(phi)) * ufl.dx\n",
    "rhs = fem.Constant(I, default_scalar_type(0)) * phi * ufl.dx"
   ]
  },
  {
   "cell_type": "code",
   "execution_count": 11,
   "id": "7d1d8181-f024-4f8f-bd3b-bdb16c565c74",
   "metadata": {},
   "outputs": [],
   "source": [
    "problem = LinearProblem(lhs, rhs, bcs=bcs, petsc_options={\"ksp_type\": \"preonly\", \"pc_type\": \"lu\"})\n",
    "u = problem.solve()"
   ]
  },
  {
   "cell_type": "code",
   "execution_count": 12,
   "id": "9d328387-0b51-490f-a635-6c2ece4dce89",
   "metadata": {},
   "outputs": [
    {
     "data": {
      "text/plain": [
       "Coefficient(FunctionSpace(Mesh(blocked element (Basix element (P, interval, 1, equispaced, unset, False, float64, []), (3,)), 0), Basix element (P, interval, 1, gll_warped, unset, False, float64, [])), 1)"
      ]
     },
     "execution_count": 12,
     "metadata": {},
     "output_type": "execute_result"
    }
   ],
   "source": [
    "u"
   ]
  },
  {
   "cell_type": "markdown",
   "id": "7cedfba8-5d82-4bfe-97ce-2ce64f7a7120",
   "metadata": {},
   "source": [
    "## Comparison with analytic solution"
   ]
  },
  {
   "cell_type": "code",
   "execution_count": 13,
   "id": "03fc334f-2d82-4350-a5e6-1b82996f0bf8",
   "metadata": {},
   "outputs": [],
   "source": [
    "u_analytic = fem.Function(V)\n",
    "sol_points = np.where(I_x < 0.5, I_x * 40 / 3, I_x * 20 / 3 + 10 / 3)\n",
    "u_analytic.x.array[:] = sol_points"
   ]
  },
  {
   "cell_type": "code",
   "execution_count": 14,
   "id": "cd68703a-ced8-4546-a9e7-65a6cd4d4395",
   "metadata": {},
   "outputs": [
    {
     "data": {
      "text/plain": [
       "0.0019956819469994277"
      ]
     },
     "execution_count": 14,
     "metadata": {},
     "output_type": "execute_result"
    }
   ],
   "source": [
    "L2_error = fem.assemble_scalar(fem.form(ufl.inner(u - u_analytic, u - u_analytic) * ufl.dx))\n",
    "L2_error"
   ]
  },
  {
   "cell_type": "code",
   "execution_count": null,
   "id": "ae6a8488-13e4-4252-a701-a51a53e5328d",
   "metadata": {},
   "outputs": [],
   "source": []
  },
  {
   "cell_type": "markdown",
   "id": "1c2cbdcd-d603-46e8-a4f3-53eebe0ec6ca",
   "metadata": {},
   "source": [
    "## Matrix generation"
   ]
  },
  {
   "cell_type": "code",
   "execution_count": 15,
   "id": "d83e0ad2-7767-4cb3-9c7d-16915f3f3cc5",
   "metadata": {},
   "outputs": [],
   "source": [
    "from dolfinx.fem.petsc import assemble_matrix, assemble_vector, apply_lifting, create_vector, set_bc\n",
    "a = fem.form(lhs)\n",
    "A = assemble_matrix(a, bcs=bcs)\n",
    "A.assemble()"
   ]
  },
  {
   "cell_type": "code",
   "execution_count": 16,
   "id": "7c315c77-5166-4e5a-b020-646ca22669f3",
   "metadata": {},
   "outputs": [
    {
     "name": "stdout",
     "output_type": "stream",
     "text": [
      "[[   1.    0.    0. ...    0.    0.    0.]\n",
      " [   0.  200. -100. ...    0.    0.    0.]\n",
      " [   0. -100.  200. ...    0.    0.    0.]\n",
      " ...\n",
      " [   0.    0.    0. ...  400. -200.    0.]\n",
      " [   0.    0.    0. ... -200.  300.    0.]\n",
      " [   0.    0.    0. ...    0.    0.    1.]]\n"
     ]
    }
   ],
   "source": [
    "from scipy.sparse import csr_matrix\n",
    "csr = csr_matrix(A.getValuesCSR()[::-1], shape=A.size)\n",
    "print(csr.toarray())"
   ]
  },
  {
   "cell_type": "code",
   "execution_count": 17,
   "id": "a8963f26-1d3d-4283-aa59-185fd980b1e8",
   "metadata": {},
   "outputs": [
    {
     "data": {
      "text/plain": [
       "array([   0.,    0.,    0.,    0.,    0.,    0.,    0.,    0.,    0.,\n",
       "          0.,    0.,    0.,    0.,    0.,    0.,    0.,    0.,    0.,\n",
       "          0.,    0.,    0.,    0.,    0.,    0.,    0.,    0.,    0.,\n",
       "          0.,    0.,    0.,    0.,    0.,    0.,    0.,    0.,    0.,\n",
       "          0.,    0.,    0.,    0.,    0.,    0.,    0.,    0.,    0.,\n",
       "          0.,    0.,    0.,    0.,    0.,    0.,    0.,    0.,    0.,\n",
       "          0.,    0.,    0.,    0.,    0.,    0.,    0.,    0.,    0.,\n",
       "          0.,    0.,    0.,    0.,    0.,    0.,    0.,    0.,    0.,\n",
       "          0.,    0.,    0.,    0.,    0.,    0.,    0.,    0.,    0.,\n",
       "          0.,    0.,    0.,    0.,    0.,    0.,    0.,    0.,    0.,\n",
       "          0.,    0.,    0.,    0.,    0.,    0.,    0.,    0.,    0.,\n",
       "       1000.,   10.])"
      ]
     },
     "execution_count": 17,
     "metadata": {},
     "output_type": "execute_result"
    }
   ],
   "source": [
    "b = create_vector(fem.form(rhs))\n",
    "apply_lifting(b, [fem.form(a)], [bcs])\n",
    "set_bc(b, bcs)\n",
    "b.array"
   ]
  },
  {
   "cell_type": "code",
   "execution_count": 18,
   "id": "9118a9f1-9d45-4769-8ffd-9fc3fca5e301",
   "metadata": {},
   "outputs": [
    {
     "data": {
      "text/plain": [
       "np.float64(2.2733953352188767e-12)"
      ]
     },
     "execution_count": 18,
     "metadata": {},
     "output_type": "execute_result"
    }
   ],
   "source": [
    "err = csr.toarray() @ u.x.array - b.array\n",
    "np.linalg.norm(err)"
   ]
  },
  {
   "cell_type": "markdown",
   "id": "05060209-fa84-4243-91e6-7c0679fbaceb",
   "metadata": {},
   "source": [
    "## Plotting"
   ]
  },
  {
   "cell_type": "code",
   "execution_count": 20,
   "id": "0ff626ff-4546-4a85-9e9b-73911ef26b68",
   "metadata": {},
   "outputs": [
    {
     "data": {
      "text/plain": [
       "array([6.51884701, 6.6075388 , 6.67405765])"
      ]
     },
     "execution_count": 20,
     "metadata": {},
     "output_type": "execute_result"
    }
   ],
   "source": [
    "u.x.array[49:52]"
   ]
  },
  {
   "cell_type": "code",
   "execution_count": 21,
   "id": "4f3faa7a-b59f-4e45-9d61-0f76dabbf3db",
   "metadata": {},
   "outputs": [
    {
     "data": {
      "text/plain": [
       "array([6.53333333, 6.66666667, 6.73333333])"
      ]
     },
     "execution_count": 21,
     "metadata": {},
     "output_type": "execute_result"
    }
   ],
   "source": [
    "sol_points[49:52]"
   ]
  },
  {
   "cell_type": "code",
   "execution_count": 22,
   "id": "c92835c1-efe1-4b9c-b864-a676f6d40cbd",
   "metadata": {},
   "outputs": [
    {
     "data": {
      "text/plain": [
       "array([ 0.        ,  0.13303769,  0.26607539,  0.39911308,  0.53215078,\n",
       "        0.66518847,  0.79822616,  0.93126386,  1.06430155,  1.19733925,\n",
       "        1.33037694,  1.46341463,  1.59645233,  1.72949002,  1.86252772,\n",
       "        1.99556541,  2.1286031 ,  2.2616408 ,  2.39467849,  2.52771619,\n",
       "        2.66075388,  2.79379157,  2.92682927,  3.05986696,  3.19290466,\n",
       "        3.32594235,  3.45898004,  3.59201774,  3.72505543,  3.85809313,\n",
       "        3.99113082,  4.12416851,  4.25720621,  4.3902439 ,  4.5232816 ,\n",
       "        4.65631929,  4.78935698,  4.92239468,  5.05543237,  5.18847007,\n",
       "        5.32150776,  5.45454545,  5.58758315,  5.72062084,  5.85365854,\n",
       "        5.98669623,  6.11973392,  6.25277162,  6.38580931,  6.51884701,\n",
       "        6.6075388 ,  6.67405765,  6.7405765 ,  6.80709534,  6.87361419,\n",
       "        6.94013304,  7.00665188,  7.07317073,  7.13968958,  7.20620843,\n",
       "        7.27272727,  7.33924612,  7.40576497,  7.47228381,  7.53880266,\n",
       "        7.60532151,  7.67184035,  7.7383592 ,  7.80487805,  7.8713969 ,\n",
       "        7.93791574,  8.00443459,  8.07095344,  8.13747228,  8.20399113,\n",
       "        8.27050998,  8.33702882,  8.40354767,  8.47006652,  8.53658537,\n",
       "        8.60310421,  8.66962306,  8.73614191,  8.80266075,  8.8691796 ,\n",
       "        8.93569845,  9.00221729,  9.06873614,  9.13525499,  9.20177384,\n",
       "        9.26829268,  9.33481153,  9.40133038,  9.46784922,  9.53436807,\n",
       "        9.60088692,  9.66740576,  9.73392461,  9.80044346,  9.86696231,\n",
       "       10.        ])"
      ]
     },
     "execution_count": 22,
     "metadata": {},
     "output_type": "execute_result"
    }
   ],
   "source": [
    "u.x.array"
   ]
  },
  {
   "cell_type": "code",
   "execution_count": 23,
   "id": "e882921d-70b3-4142-a3d3-aeff3ef35f30",
   "metadata": {},
   "outputs": [
    {
     "data": {
      "text/plain": [
       "[<matplotlib.lines.Line2D at 0x7f1c0a5a8410>]"
      ]
     },
     "execution_count": 23,
     "metadata": {},
     "output_type": "execute_result"
    },
    {
     "data": {
      "image/png": "[encoded data removed]",
      "text/plain": [
       "<Figure size 640x480 with 1 Axes>"
      ]
     },
     "metadata": {},
     "output_type": "display_data"
    }
   ],
   "source": [
    "import matplotlib.pyplot as plt\n",
    "\n",
    "plt.plot(I_x, sol_points, 'x')\n",
    "plt.plot(I_x, u.x.array)"
   ]
  },
  {
   "cell_type": "markdown",
   "id": "9e435371-6941-4889-84bd-24f6f6d1f14c",
   "metadata": {},
   "source": [
    "## Save output files"
   ]
  },
  {
   "cell_type": "code",
   "execution_count": 24,
   "id": "d72c4f24-328f-4738-9fe9-50d25a0486c6",
   "metadata": {},
   "outputs": [],
   "source": [
    "import dolfinx\n",
    "with dolfinx.io.VTXWriter(MPI.COMM_WORLD, \"./u_sol.bp\", [u], engine=\"BP4\") as vtx:\n",
    "    vtx.write(0.0)"
   ]
  },
  {
   "cell_type": "code",
   "execution_count": 25,
   "id": "03b8f3cd-695d-4250-bf1e-9bca07983c18",
   "metadata": {},
   "outputs": [],
   "source": [
    "from dolfinx import io\n",
    "with io.XDMFFile(I.comm, \"./u.xdmf\", \"w\") as xdmf:\n",
    "    xdmf.write_mesh(I)\n",
    "    xdmf.write_function(u)"
   ]
  }
 ],
 "metadata": {
  "kernelspec": {
   "display_name": "Python 3 (ipykernel)",
   "language": "python",
   "name": "python3"
  },
  "language_info": {
   "codemirror_mode": {
    "name": "ipython",
    "version": 3
   },
   "file_extension": ".py",
   "mimetype": "text/x-python",
   "name": "python",
   "nbconvert_exporter": "python",
   "pygments_lexer": "ipython3",
   "version": "3.13.5"
  }
 },
 "nbformat": 4,
 "nbformat_minor": 5
}
