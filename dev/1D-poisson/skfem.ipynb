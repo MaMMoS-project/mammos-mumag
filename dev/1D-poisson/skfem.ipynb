{
 "cells": [
  {
   "cell_type": "markdown",
   "id": "cc464fc6-6074-4f18-9fd6-6e02f09aed84",
   "metadata": {},
   "source": [
    "## Problem definition\n",
    "\n",
    "The main equation: $\\nabla \\cdot (-\\sigma\\nabla{V}) = 0$\n",
    "\n",
    "Where both $\\sigma(x)$ and $V(x)$ vary with position.\n",
    "\n",
    "We assume Dirichlet boundary conditions: $V(0) = 0$ and $V(1) = 10$\n",
    "\n",
    "Further, $\\sigma$ is defined as:\n",
    "$$\n",
    "\\sigma(x)=\n",
    "\\begin{cases}\n",
    "1 & \\quad \\text{when $x<0.5$}\\\\\n",
    "2 & \\quad \\text{otherwise}\n",
    "\\end{cases}\n",
    "$$\n",
    "\n",
    "To solve this analytically we need to devide the diffrential equation in two parts, one for $x<0.5$ and another for $x\\geq0.5$. The double integration after using the boundary condition yields the result:\n",
    "$$\n",
    "V(x)=\n",
    "\\begin{cases}\n",
    "\\frac{40}{3}x & \\quad \\text{when $x<0.5$}\\\\\n",
    "\\frac{20}{3}x + \\frac{10}{3} & \\quad \\text{otherwise}\n",
    "\\end{cases}\n",
    "$$"
   ]
  },
  {
   "cell_type": "markdown",
   "id": "761d3485-d31e-47a6-b225-ec4180f43e7b",
   "metadata": {},
   "source": [
    "## Solution using `skfem`"
   ]
  },
  {
   "cell_type": "code",
   "execution_count": 1,
   "id": "6c954d6b-4c58-4f93-b64c-2387dce496f3",
   "metadata": {},
   "outputs": [],
   "source": [
    "import skfem\n",
    "import skfem.visuals.matplotlib\n",
    "from skfem.helpers import grad, dot\n",
    "import numpy as np"
   ]
  },
  {
   "cell_type": "code",
   "execution_count": 2,
   "id": "0cdfbabd-92f3-4dd0-a8ee-f33e5f15be19",
   "metadata": {},
   "outputs": [
    {
     "data": {
      "text/plain": [
       "(100,)"
      ]
     },
     "execution_count": 2,
     "metadata": {},
     "output_type": "execute_result"
    }
   ],
   "source": [
    "np.linspace(0, 1, num=100).shape"
   ]
  },
  {
   "cell_type": "code",
   "execution_count": 3,
   "id": "56f0991e-1a5f-4cc3-9e3a-c37664f9f33e",
   "metadata": {},
   "outputs": [],
   "source": [
    "mesh = skfem.MeshLine(p=np.linspace(0, 1, num=100))"
   ]
  },
  {
   "cell_type": "code",
   "execution_count": 4,
   "id": "dde0c702-e010-49fa-bde2-6bdb895ddf33",
   "metadata": {},
   "outputs": [
    {
     "data": {
      "image/png": "[encoded data removed]",
      "text/plain": [
       "<Figure size 640x480 with 1 Axes>"
      ]
     },
     "metadata": {},
     "output_type": "display_data"
    }
   ],
   "source": [
    "skfem.visuals.matplotlib.draw(mesh);"
   ]
  },
  {
   "cell_type": "code",
   "execution_count": 5,
   "id": "c5c16485-8eb1-4fdb-a862-6a39bc265842",
   "metadata": {},
   "outputs": [],
   "source": [
    "basis_p1 = skfem.Basis(mesh=mesh, elem=skfem.ElementLineP1())\n",
    "basis_p0 = skfem.Basis(mesh=mesh, elem=skfem.ElementDG(skfem.ElementLineP0()))"
   ]
  },
  {
   "cell_type": "code",
   "execution_count": 6,
   "id": "745e4b74-d057-45ec-9ec5-2599ff1cb07c",
   "metadata": {},
   "outputs": [
    {
     "data": {
      "text/plain": [
       "<skfem CellBasis(MeshLine1, ElementDG) object>\n",
       "  Number of elements: 99\n",
       "  Number of DOFs: 99\n",
       "  Size: 3168 B"
      ]
     },
     "execution_count": 6,
     "metadata": {},
     "output_type": "execute_result"
    }
   ],
   "source": [
    "basis_p0"
   ]
  },
  {
   "cell_type": "code",
   "execution_count": 7,
   "id": "63148fe0-93e4-4b3b-9d1c-3840da332534",
   "metadata": {},
   "outputs": [
    {
     "data": {
      "text/plain": [
       "<skfem CellBasis(MeshLine1, ElementLineP1) object>\n",
       "  Number of elements: 99\n",
       "  Number of DOFs: 100\n",
       "  Size: 6336 B"
      ]
     },
     "execution_count": 7,
     "metadata": {},
     "output_type": "execute_result"
    }
   ],
   "source": [
    "basis_p1"
   ]
  },
  {
   "cell_type": "code",
   "execution_count": 8,
   "id": "a52bd95e-6c40-45a9-80b0-93de46e508a1",
   "metadata": {},
   "outputs": [],
   "source": [
    "sigma = np.squeeze(np.where(basis_p0.doflocs < 0.5, 1., 2.))"
   ]
  },
  {
   "cell_type": "code",
   "execution_count": 9,
   "id": "8982665f-e8df-45d0-a995-29fa4022ecb6",
   "metadata": {},
   "outputs": [
    {
     "data": {
      "text/plain": [
       "(99,)"
      ]
     },
     "execution_count": 9,
     "metadata": {},
     "output_type": "execute_result"
    }
   ],
   "source": [
    "sigma.shape"
   ]
  },
  {
   "cell_type": "code",
   "execution_count": 10,
   "id": "937d6c38-bd43-4f59-85f1-fc2f8a8ba271",
   "metadata": {},
   "outputs": [],
   "source": [
    "sigma_field = basis_p0.interpolate(sigma)"
   ]
  },
  {
   "cell_type": "code",
   "execution_count": 11,
   "id": "c578bf74-70ef-434f-a8fe-6b6159b4e2af",
   "metadata": {},
   "outputs": [],
   "source": [
    "@skfem.BilinearForm\n",
    "def stifness_matrix(u, v, w):\n",
    "    return - w.sigma * dot(grad(u), grad(v))"
   ]
  },
  {
   "cell_type": "code",
   "execution_count": 12,
   "id": "3179edc0-84b5-4de9-a4a7-25986a9b35ec",
   "metadata": {},
   "outputs": [],
   "source": [
    "@skfem.LinearForm\n",
    "def l(v, _):\n",
    "    return 0 * v"
   ]
  },
  {
   "cell_type": "code",
   "execution_count": 13,
   "id": "aed033e5-d4da-4bde-bd2c-acdccb2e4e20",
   "metadata": {},
   "outputs": [],
   "source": [
    "S = stifness_matrix.assemble(basis_p1, sigma=sigma_field)"
   ]
  },
  {
   "cell_type": "code",
   "execution_count": 14,
   "id": "44e494b6-cb15-467a-8b44-a5cd87b163af",
   "metadata": {},
   "outputs": [
    {
     "data": {
      "text/plain": [
       "<Compressed Sparse Row sparse matrix of dtype 'float64'\n",
       "\twith 298 stored elements and shape (100, 100)>"
      ]
     },
     "execution_count": 14,
     "metadata": {},
     "output_type": "execute_result"
    }
   ],
   "source": [
    "S"
   ]
  },
  {
   "cell_type": "code",
   "execution_count": 15,
   "id": "f714d7ed-b5a6-44b0-90ac-eddbffdf03bf",
   "metadata": {},
   "outputs": [],
   "source": [
    "L = l.assemble(basis_p1)"
   ]
  },
  {
   "cell_type": "code",
   "execution_count": 16,
   "id": "926c2916-8d93-4760-8aa4-ecd1786ae3fd",
   "metadata": {},
   "outputs": [
    {
     "data": {
      "text/plain": [
       "array([0., 0., 0., 0., 0., 0., 0., 0., 0., 0., 0., 0., 0., 0., 0., 0., 0.,\n",
       "       0., 0., 0., 0., 0., 0., 0., 0., 0., 0., 0., 0., 0., 0., 0., 0., 0.,\n",
       "       0., 0., 0., 0., 0., 0., 0., 0., 0., 0., 0., 0., 0., 0., 0., 0., 0.,\n",
       "       0., 0., 0., 0., 0., 0., 0., 0., 0., 0., 0., 0., 0., 0., 0., 0., 0.,\n",
       "       0., 0., 0., 0., 0., 0., 0., 0., 0., 0., 0., 0., 0., 0., 0., 0., 0.,\n",
       "       0., 0., 0., 0., 0., 0., 0., 0., 0., 0., 0., 0., 0., 0., 0.])"
      ]
     },
     "execution_count": 16,
     "metadata": {},
     "output_type": "execute_result"
    }
   ],
   "source": [
    "L"
   ]
  },
  {
   "cell_type": "code",
   "execution_count": 17,
   "id": "758172c5-5a8c-4b55-9d8a-93f9feba9d0b",
   "metadata": {},
   "outputs": [],
   "source": [
    "boundary_nodes = basis_p1.get_dofs().flatten()"
   ]
  },
  {
   "cell_type": "code",
   "execution_count": 18,
   "id": "98202bff-4d24-4681-ac49-711c507e812c",
   "metadata": {},
   "outputs": [],
   "source": [
    "pot = basis_p1.zeros()\n",
    "pot[boundary_nodes[0]] = 0.\n",
    "pot[boundary_nodes[1]] = 10."
   ]
  },
  {
   "cell_type": "code",
   "execution_count": 19,
   "id": "257416b0-46a4-4118-b477-9e4382cabd23",
   "metadata": {},
   "outputs": [],
   "source": [
    "pot = skfem.solve(*skfem.condense(S, L, x=pot, D=basis_p1.get_dofs()))"
   ]
  },
  {
   "cell_type": "code",
   "execution_count": 20,
   "id": "04812c2e-1ee4-4e8c-b72d-2f7b66db3ad4",
   "metadata": {},
   "outputs": [
    {
     "data": {
      "image/png": "[encoded data removed]",
      "text/plain": [
       "<Figure size 640x480 with 1 Axes>"
      ]
     },
     "metadata": {},
     "output_type": "display_data"
    }
   ],
   "source": [
    "skfem.visuals.matplotlib.plot(mesh, pot);"
   ]
  },
  {
   "cell_type": "markdown",
   "id": "17a41e95-ecde-4f37-add1-d63663b459ad",
   "metadata": {},
   "source": [
    "## Comparing both solutions"
   ]
  },
  {
   "cell_type": "code",
   "execution_count": 21,
   "id": "4c09a2d1-cfa6-4bcf-b9d4-1d18766d5d3e",
   "metadata": {},
   "outputs": [],
   "source": [
    "analytical_pot = np.where(mesh.p[0]<0.5, mesh.p[0] * 40 / 3, (mesh.p[0] * 20 / 3) + (10/3))"
   ]
  },
  {
   "cell_type": "code",
   "execution_count": 22,
   "id": "b2f0ac78-615c-4415-9dae-12c462bad4fd",
   "metadata": {},
   "outputs": [
    {
     "data": {
      "text/plain": [
       "np.float64(0.10228026668754402)"
      ]
     },
     "execution_count": 22,
     "metadata": {},
     "output_type": "execute_result"
    }
   ],
   "source": [
    "np.linalg.norm(analytical_pot - pot)"
   ]
  },
  {
   "cell_type": "code",
   "execution_count": 23,
   "id": "13b90641-ec38-4545-a04f-66280e2edcca",
   "metadata": {},
   "outputs": [],
   "source": [
    "import matplotlib.pyplot as plt"
   ]
  },
  {
   "cell_type": "code",
   "execution_count": 24,
   "id": "a2de21c2-5010-471b-a5fc-478a86495813",
   "metadata": {},
   "outputs": [
    {
     "data": {
      "image/png": "[encoded data removed]",
      "text/plain": [
       "<Figure size 640x480 with 1 Axes>"
      ]
     },
     "metadata": {},
     "output_type": "display_data"
    }
   ],
   "source": [
    "plt.plot(mesh.p[0], analytical_pot, \"o\", label=\"analytical\")\n",
    "plt.plot(mesh.p[0], pot, \"x\", label=\"FEM 100 points\")\n",
    "plt.legend()\n",
    "plt.grid()\n",
    "plt.show()"
   ]
  },
  {
   "cell_type": "markdown",
   "id": "c1b01530-ab65-429e-b4d3-e5dbfcf20a10",
   "metadata": {},
   "source": [
    "## Stiffness matrix"
   ]
  },
  {
   "cell_type": "code",
   "execution_count": 36,
   "id": "4016d91a-d163-4265-a3f3-d9f1ce7144d1",
   "metadata": {},
   "outputs": [
    {
     "data": {
      "text/plain": [
       "array([[ -99.,   99.,    0., ...,    0.,    0.,    0.],\n",
       "       [  99., -198.,   99., ...,    0.,    0.,    0.],\n",
       "       [   0.,   99., -198., ...,    0.,    0.,    0.],\n",
       "       ...,\n",
       "       [   0.,    0.,    0., ..., -396.,  198.,    0.],\n",
       "       [   0.,    0.,    0., ...,  198., -396.,  198.],\n",
       "       [   0.,    0.,    0., ...,    0.,  198., -198.]], shape=(100, 100))"
      ]
     },
     "execution_count": 36,
     "metadata": {},
     "output_type": "execute_result"
    }
   ],
   "source": [
    "S.toarray()"
   ]
  }
 ],
 "metadata": {
  "kernelspec": {
   "display_name": "Python 3 (ipykernel)",
   "language": "python",
   "name": "python3"
  },
  "language_info": {
   "codemirror_mode": {
    "name": "ipython",
    "version": 3
   },
   "file_extension": ".py",
   "mimetype": "text/x-python",
   "name": "python",
   "nbconvert_exporter": "python",
   "pygments_lexer": "ipython3",
   "version": "3.13.5"
  }
 },
 "nbformat": 4,
 "nbformat_minor": 5
}
