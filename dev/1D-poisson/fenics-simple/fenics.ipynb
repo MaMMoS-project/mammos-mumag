{
 "cells": [
  {
   "cell_type": "code",
   "execution_count": 1,
   "id": "98fb4db5-3562-49be-a17c-88f333b0af34",
   "metadata": {},
   "outputs": [],
   "source": [
    "from dolfinx import default_scalar_type, fem, mesh\n",
    "from dolfinx.fem.petsc import LinearProblem\n",
    "from mpi4py import MPI\n",
    "import numpy as np\n",
    "import ufl"
   ]
  },
  {
   "cell_type": "code",
   "execution_count": 2,
   "id": "32a16757-0fd0-44b5-bfa2-fab5a5064d22",
   "metadata": {},
   "outputs": [],
   "source": [
    "Omega = mesh.create_interval(MPI.COMM_WORLD, 100, [0, 1])\n",
    "V = fem.functionspace(Omega, ('Lagrange', 1))"
   ]
  },
  {
   "cell_type": "code",
   "execution_count": 3,
   "id": "bb19cfe9-98c3-435d-9a08-29cb557e3610",
   "metadata": {},
   "outputs": [],
   "source": [
    "dofs_L = fem.locate_dofs_geometrical(V, lambda x: np.isclose(x[0], 0))\n",
    "dofs_R = fem.locate_dofs_geometrical(V, lambda x: np.isclose(x[0], 1))\n",
    "u_L = fem.Function(V)#fem.Constant(Omega, default_scalar_type(0))\n",
    "u_L.interpolate(lambda x: x[0]*0)\n",
    "u_R = fem.Function(V)#fem.Constant(Omega, default_scalar_type(10))\n",
    "u_R.interpolate(lambda x: x[0]*0 + 10)\n",
    "bc_L = fem.dirichletbc(u_L, dofs_L)\n",
    "bc_R = fem.dirichletbc(u_R, dofs_R)\n",
    "bcs = [bc_L, bc_R]"
   ]
  },
  {
   "cell_type": "code",
   "execution_count": 4,
   "id": "74fe0742-ce30-417d-a28c-436562c78c66",
   "metadata": {},
   "outputs": [],
   "source": [
    "u = ufl.TrialFunction(V)\n",
    "phi = ufl.TestFunction(V)"
   ]
  },
  {
   "cell_type": "code",
   "execution_count": 5,
   "id": "74a2fc2d-1e2e-42a2-8591-1e9d2ae05217",
   "metadata": {},
   "outputs": [],
   "source": [
    "def Omega_0(x):\n",
    "    return x[0] <= 0.5\n",
    "\n",
    "def Omega_1(x):\n",
    "    return x[0] >= 0.5\n",
    "\n",
    "sigma = fem.Function(V)\n",
    "\n",
    "cells_0 = mesh.locate_entities(Omega, Omega.topology.dim, Omega_0)\n",
    "cells_1 = mesh.locate_entities(Omega, Omega.topology.dim, Omega_1)\n",
    "\n",
    "sigma.x.array[cells_0] = np.full_like(cells_0, 1, dtype=default_scalar_type)\n",
    "sigma.x.array[cells_1] = np.full_like(cells_1, 2, dtype=default_scalar_type)"
   ]
  },
  {
   "cell_type": "code",
   "execution_count": 6,
   "id": "71c8e1ba-7b8b-4733-9281-f5ba0b6a5635",
   "metadata": {},
   "outputs": [],
   "source": [
    "a = ufl.inner(sigma * ufl.grad(u), ufl.grad(phi)) * ufl.dx\n",
    "L = fem.Constant(Omega, default_scalar_type(0)) * phi * ufl.dx"
   ]
  },
  {
   "cell_type": "code",
   "execution_count": 7,
   "id": "7d1d8181-f024-4f8f-bd3b-bdb16c565c74",
   "metadata": {},
   "outputs": [],
   "source": [
    "problem = LinearProblem(a, L, bcs=bcs)#, petsc_options={\"ksp_type\": \"preonly\", \"pc_type\": \"lu\"})\n",
    "u = problem.solve()"
   ]
  },
  {
   "cell_type": "code",
   "execution_count": 8,
   "id": "d72c4f24-328f-4738-9fe9-50d25a0486c6",
   "metadata": {},
   "outputs": [],
   "source": [
    "import dolfinx\n",
    "with dolfinx.io.VTXWriter(MPI.COMM_WORLD, \"./u_sol.bp\", [u], engine=\"BP4\") as vtx:\n",
    "    vtx.write(0.0)"
   ]
  },
  {
   "cell_type": "code",
   "execution_count": 9,
   "id": "03b8f3cd-695d-4250-bf1e-9bca07983c18",
   "metadata": {},
   "outputs": [],
   "source": [
    "from dolfinx import io\n",
    "with io.XDMFFile(Omega.comm, \"u.xdmf\", \"w\") as xdmf:\n",
    "    xdmf.write_mesh(Omega)\n",
    "    xdmf.write_function(u)"
   ]
  }
 ],
 "metadata": {
  "kernelspec": {
   "display_name": "Python 3 (ipykernel)",
   "language": "python",
   "name": "python3"
  },
  "language_info": {
   "codemirror_mode": {
    "name": "ipython",
    "version": 3
   },
   "file_extension": ".py",
   "mimetype": "text/x-python",
   "name": "python",
   "nbconvert_exporter": "python",
   "pygments_lexer": "ipython3",
   "version": "3.13.5"
  }
 },
 "nbformat": 4,
 "nbformat_minor": 5
}
