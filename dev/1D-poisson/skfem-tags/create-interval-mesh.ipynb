{
 "cells": [
  {
   "cell_type": "markdown",
   "id": "942e690a-f377-4a79-a11a-3629ed255cd6",
   "metadata": {},
   "source": [
    "# Create a mesh using `gmsh`\n",
    "The aim here is to create a mesh where a material geometry in the form of a cube, surrounded by spherical air region, and finally a shell."
   ]
  },
  {
   "cell_type": "code",
   "execution_count": 11,
   "id": "b3b1b553-e4af-466d-9090-2a71ccc3587e",
   "metadata": {},
   "outputs": [],
   "source": [
    "import gmsh\n",
    "import numpy as np"
   ]
  },
  {
   "cell_type": "markdown",
   "id": "1ac73894-12d7-48e5-aafd-933e9e70e0ed",
   "metadata": {},
   "source": [
    "Initiate mesh parameters."
   ]
  },
  {
   "cell_type": "code",
   "execution_count": 12,
   "id": "297c1b5f-3199-4517-86ac-a3c9cb359d55",
   "metadata": {},
   "outputs": [],
   "source": [
    "gmsh.initialize()"
   ]
  },
  {
   "cell_type": "code",
   "execution_count": 13,
   "id": "f60be233-80fc-477c-94d9-fa26f697a3bd",
   "metadata": {},
   "outputs": [],
   "source": [
    "gmsh.model.add(\"Omega\")"
   ]
  },
  {
   "cell_type": "code",
   "execution_count": 14,
   "id": "eb5cfc1b-41f7-45c2-ade3-cbda620d5563",
   "metadata": {},
   "outputs": [],
   "source": [
    "P_0 = gmsh.model.geo.add_point(0, 0, 0, 1e-2)\n",
    "P_half = gmsh.model.geo.add_point(0.5, 0, 0, 1e-2)\n",
    "P_1 = gmsh.model.geo.add_point(1, 0, 0, 1e-2)\n",
    "L_1 = gmsh.model.geo.add_line(P_0, P_half)\n",
    "L_2 = gmsh.model.geo.add_line(P_half, P_1)"
   ]
  },
  {
   "cell_type": "code",
   "execution_count": 15,
   "id": "e2db4e05-5756-4475-9cc2-f683cc349e0e",
   "metadata": {},
   "outputs": [],
   "source": [
    "gmsh.model.geo.synchronize()"
   ]
  },
  {
   "cell_type": "code",
   "execution_count": 16,
   "id": "c1695904-994f-485e-baff-a64f1354b550",
   "metadata": {},
   "outputs": [],
   "source": [
    "# gmsh.model.add_physical_group(1, [L_1], name=\"L1\")\n",
    "# gmsh.model.add_physical_group(1, [L_2], name=\"L2\")"
   ]
  },
  {
   "cell_type": "code",
   "execution_count": null,
   "id": "abfc2303-05f3-4af0-a16f-37dbec7ba58d",
   "metadata": {},
   "outputs": [],
   "source": [
    "gmsh.model.add"
   ]
  },
  {
   "cell_type": "code",
   "execution_count": 7,
   "id": "52e76818-b480-45d9-a014-233aebaaee41",
   "metadata": {},
   "outputs": [
    {
     "name": "stdout",
     "output_type": "stream",
     "text": [
      "Info    : Meshing 1D...\n",
      "Info    : [  0%] Meshing curve 1 (Line)\n",
      "Info    : [ 60%] Meshing curve 2 (Line)\n",
      "Info    : Done meshing 1D (Wall 0.000320616s, CPU 0.000484s)\n",
      "Info    : 101 nodes 103 elements\n"
     ]
    }
   ],
   "source": [
    "gmsh.model.mesh.generate(1)"
   ]
  },
  {
   "cell_type": "markdown",
   "id": "935f1235-9a8a-42b0-b92d-c1ad7af30919",
   "metadata": {},
   "source": [
    "Visualise the mesh."
   ]
  },
  {
   "cell_type": "code",
   "execution_count": 8,
   "id": "f1a27d5e-a4a1-45aa-8cfd-12df34d02ca2",
   "metadata": {},
   "outputs": [],
   "source": [
    "# gmsh.fltk.run()  # uncomment for gmsh GUI"
   ]
  },
  {
   "cell_type": "code",
   "execution_count": 9,
   "id": "a4d56cdf-42a2-42f8-abfc-f91823ea21a7",
   "metadata": {},
   "outputs": [
    {
     "name": "stdout",
     "output_type": "stream",
     "text": [
      "Info    : Writing './interval.msh'...\n",
      "Info    : Done writing './interval.msh'\n"
     ]
    }
   ],
   "source": [
    "gmsh.write(\"./interval.msh\")"
   ]
  },
  {
   "cell_type": "markdown",
   "id": "c322726a-86ce-475f-ab9a-ada199754dcd",
   "metadata": {},
   "source": [
    "Inspect the log."
   ]
  },
  {
   "cell_type": "code",
   "execution_count": 10,
   "id": "9efb0092-291d-4b93-a128-9e3173965327",
   "metadata": {},
   "outputs": [],
   "source": [
    "gmsh.finalize()"
   ]
  }
 ],
 "metadata": {
  "kernelspec": {
   "display_name": "Python 3 (ipykernel)",
   "language": "python",
   "name": "python3"
  },
  "language_info": {
   "codemirror_mode": {
    "name": "ipython",
    "version": 3
   },
   "file_extension": ".py",
   "mimetype": "text/x-python",
   "name": "python",
   "nbconvert_exporter": "python",
   "pygments_lexer": "ipython3",
   "version": "3.13.5"
  }
 },
 "nbformat": 4,
 "nbformat_minor": 5
}
