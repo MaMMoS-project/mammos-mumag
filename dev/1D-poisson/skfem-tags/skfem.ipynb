{
 "cells": [
  {
   "cell_type": "markdown",
   "id": "cc464fc6-6074-4f18-9fd6-6e02f09aed84",
   "metadata": {},
   "source": [
    "## Problem definition\n",
    "\n",
    "The main equation: $\\nabla \\cdot (-\\sigma\\nabla{V}) = 0$\n",
    "\n",
    "Where both $\\sigma(x)$ and $V(x)$ vary with position.\n",
    "\n",
    "We assume Dirichlet boundary conditions: $V(0) = 0$ and $V(1) = 10$\n",
    "\n",
    "Further, $\\sigma$ is defined as:\n",
    "$$\n",
    "\\sigma(x)=\n",
    "\\begin{cases}\n",
    "1 & \\quad \\text{when $x<0.5$}\\\\\n",
    "2 & \\quad \\text{otherwise}\n",
    "\\end{cases}\n",
    "$$\n",
    "\n",
    "To solve this analytically we need to devide the diffrential equation in two parts, one for $x<0.5$ and another for $x\\geq0.5$. The double integration after using the boundary condition yields the result:\n",
    "$$\n",
    "V(x)=\n",
    "\\begin{cases}\n",
    "\\frac{40}{3}x & \\quad \\text{when $x<0.5$}\\\\\n",
    "\\frac{20}{3}x + \\frac{10}{3} & \\quad \\text{otherwise}\n",
    "\\end{cases}\n",
    "$$"
   ]
  },
  {
   "cell_type": "markdown",
   "id": "761d3485-d31e-47a6-b225-ec4180f43e7b",
   "metadata": {},
   "source": [
    "## Solution using `skfem`"
   ]
  },
  {
   "cell_type": "code",
   "execution_count": 1,
   "id": "6c954d6b-4c58-4f93-b64c-2387dce496f3",
   "metadata": {},
   "outputs": [],
   "source": [
    "import skfem\n",
    "import skfem.visuals.matplotlib\n",
    "from skfem.helpers import grad, dot\n",
    "import numpy as np"
   ]
  },
  {
   "cell_type": "markdown",
   "id": "001893d0-dd42-4162-9d9a-8adfd24583f2",
   "metadata": {},
   "source": [
    "## Load mesh"
   ]
  },
  {
   "cell_type": "code",
   "execution_count": 2,
   "id": "4c8c1b2b-1e94-4a30-ab4e-29f1c35ac93d",
   "metadata": {},
   "outputs": [
    {
     "name": "stderr",
     "output_type": "stream",
     "text": [
      "Failure to parse tags from meshio.\n"
     ]
    },
    {
     "name": "stdout",
     "output_type": "stream",
     "text": [
      "\n"
     ]
    },
    {
     "data": {
      "text/plain": [
       "<skfem MeshLine1 object>\n",
       "  Number of elements: 100\n",
       "  Number of vertices: 101\n",
       "  Number of nodes: 101\n",
       "  Named subdomains [# elements]: L1 [50], L2 [50]"
      ]
     },
     "execution_count": 2,
     "metadata": {},
     "output_type": "execute_result"
    }
   ],
   "source": [
    "mesh = skfem.mesh.Mesh.load(\"interval.msh\")\n",
    "mesh"
   ]
  },
  {
   "cell_type": "code",
   "execution_count": 3,
   "id": "7ed9c008-8921-4ec9-bebf-83ce8b8c30d4",
   "metadata": {},
   "outputs": [
    {
     "data": {
      "text/plain": [
       "{'L1': array([ 0,  1,  2,  3,  4,  5,  6,  7,  8,  9, 10, 11, 12, 13, 14, 15, 16,\n",
       "        17, 18, 19, 20, 21, 22, 23, 24, 25, 26, 27, 28, 29, 30, 31, 32, 33,\n",
       "        34, 35, 36, 37, 38, 39, 40, 41, 42, 43, 44, 45, 46, 47, 48, 49],\n",
       "       dtype=int32),\n",
       " 'L2': array([50, 51, 52, 53, 54, 55, 56, 57, 58, 59, 60, 61, 62, 63, 64, 65, 66,\n",
       "        67, 68, 69, 70, 71, 72, 73, 74, 75, 76, 77, 78, 79, 80, 81, 82, 83,\n",
       "        84, 85, 86, 87, 88, 89, 90, 91, 92, 93, 94, 95, 96, 97, 98, 99],\n",
       "       dtype=int32)}"
      ]
     },
     "execution_count": 3,
     "metadata": {},
     "output_type": "execute_result"
    }
   ],
   "source": [
    "mesh.subdomains"
   ]
  },
  {
   "cell_type": "markdown",
   "id": "83277626-eee1-4548-9a3b-d01eb25df766",
   "metadata": {},
   "source": [
    "### Define 1D mesh"
   ]
  },
  {
   "cell_type": "code",
   "execution_count": 4,
   "id": "dde0c702-e010-49fa-bde2-6bdb895ddf33",
   "metadata": {},
   "outputs": [
    {
     "data": {
      "image/png": "[encoded data removed]",
      "text/plain": [
       "<Figure size 640x480 with 1 Axes>"
      ]
     },
     "metadata": {},
     "output_type": "display_data"
    }
   ],
   "source": [
    "skfem.visuals.matplotlib.draw(mesh);"
   ]
  },
  {
   "cell_type": "markdown",
   "id": "5e80971c-4235-4746-9495-64ac02ff8e79",
   "metadata": {},
   "source": [
    "### Define function spaces"
   ]
  },
  {
   "cell_type": "code",
   "execution_count": 5,
   "id": "c5c16485-8eb1-4fdb-a862-6a39bc265842",
   "metadata": {},
   "outputs": [],
   "source": [
    "# For trial and test function\n",
    "basis_p1 = skfem.Basis(mesh=mesh, elem=skfem.ElementLineP1())\n",
    "\n",
    "# For material parameter sigma\n",
    "basis_p0 = skfem.Basis(mesh=mesh, elem=skfem.ElementDG(skfem.ElementLineP0()))"
   ]
  },
  {
   "cell_type": "code",
   "execution_count": 6,
   "id": "745e4b74-d057-45ec-9ec5-2599ff1cb07c",
   "metadata": {},
   "outputs": [
    {
     "data": {
      "text/plain": [
       "<skfem CellBasis(MeshLine1, ElementDG) object>\n",
       "  Number of elements: 100\n",
       "  Number of DOFs: 100\n",
       "  Size: 3200 B"
      ]
     },
     "execution_count": 6,
     "metadata": {},
     "output_type": "execute_result"
    }
   ],
   "source": [
    "basis_p0"
   ]
  },
  {
   "cell_type": "code",
   "execution_count": 7,
   "id": "63148fe0-93e4-4b3b-9d1c-3840da332534",
   "metadata": {},
   "outputs": [
    {
     "data": {
      "text/plain": [
       "<skfem CellBasis(MeshLine1, ElementLineP1) object>\n",
       "  Number of elements: 100\n",
       "  Number of DOFs: 101\n",
       "  Size: 6400 B"
      ]
     },
     "execution_count": 7,
     "metadata": {},
     "output_type": "execute_result"
    }
   ],
   "source": [
    "basis_p1"
   ]
  },
  {
   "cell_type": "markdown",
   "id": "d0e876f7-6399-4aff-8674-5f4d172524b8",
   "metadata": {},
   "source": [
    "### Define material parameter"
   ]
  },
  {
   "cell_type": "code",
   "execution_count": 8,
   "id": "9c5a163c-d857-482e-815c-46b1cbc00538",
   "metadata": {},
   "outputs": [],
   "source": [
    "sigma = basis_p0.zeros()\n",
    "sigma[mesh.subdomains[\"L1\"]] = 1\n",
    "sigma[mesh.subdomains[\"L2\"]] = 2"
   ]
  },
  {
   "cell_type": "code",
   "execution_count": 9,
   "id": "bb1e8df1-a750-4d20-b81a-5b5e8a409110",
   "metadata": {},
   "outputs": [
    {
     "data": {
      "text/plain": [
       "array([1., 1., 1., 1., 1., 1., 1., 1., 1., 1., 1., 1., 1., 1., 1., 1., 1.,\n",
       "       1., 1., 1., 1., 1., 1., 1., 1., 1., 1., 1., 1., 1., 1., 1., 1., 1.,\n",
       "       1., 1., 1., 1., 1., 1., 1., 1., 1., 1., 1., 1., 1., 1., 1., 1., 2.,\n",
       "       2., 2., 2., 2., 2., 2., 2., 2., 2., 2., 2., 2., 2., 2., 2., 2., 2.,\n",
       "       2., 2., 2., 2., 2., 2., 2., 2., 2., 2., 2., 2., 2., 2., 2., 2., 2.,\n",
       "       2., 2., 2., 2., 2., 2., 2., 2., 2., 2., 2., 2., 2., 2., 2.])"
      ]
     },
     "execution_count": 9,
     "metadata": {},
     "output_type": "execute_result"
    }
   ],
   "source": [
    "sigma"
   ]
  },
  {
   "cell_type": "code",
   "execution_count": 10,
   "id": "832a35c7-6dcb-45fa-b326-a97d4b356737",
   "metadata": {},
   "outputs": [],
   "source": [
    "sigma_field = basis_p0.interpolate(sigma)"
   ]
  },
  {
   "cell_type": "markdown",
   "id": "978a74ea-4879-41dd-8323-a88f32ec272d",
   "metadata": {},
   "source": [
    "### Assemble the system matrices"
   ]
  },
  {
   "cell_type": "code",
   "execution_count": 11,
   "id": "c578bf74-70ef-434f-a8fe-6b6159b4e2af",
   "metadata": {},
   "outputs": [],
   "source": [
    "@skfem.BilinearForm\n",
    "def stifness_matrix(u, v, w):\n",
    "    return - w.sigma * dot(grad(u), grad(v))"
   ]
  },
  {
   "cell_type": "code",
   "execution_count": 12,
   "id": "3179edc0-84b5-4de9-a4a7-25986a9b35ec",
   "metadata": {},
   "outputs": [],
   "source": [
    "@skfem.LinearForm\n",
    "def l(v, _):\n",
    "    return 0 * v"
   ]
  },
  {
   "cell_type": "code",
   "execution_count": 13,
   "id": "aed033e5-d4da-4bde-bd2c-acdccb2e4e20",
   "metadata": {},
   "outputs": [],
   "source": [
    "S = stifness_matrix.assemble(basis_p1, sigma=sigma_field)"
   ]
  },
  {
   "cell_type": "code",
   "execution_count": 14,
   "id": "44e494b6-cb15-467a-8b44-a5cd87b163af",
   "metadata": {},
   "outputs": [
    {
     "data": {
      "text/plain": [
       "<Compressed Sparse Row sparse matrix of dtype 'float64'\n",
       "\twith 301 stored elements and shape (101, 101)>"
      ]
     },
     "execution_count": 14,
     "metadata": {},
     "output_type": "execute_result"
    }
   ],
   "source": [
    "S"
   ]
  },
  {
   "cell_type": "code",
   "execution_count": 15,
   "id": "f714d7ed-b5a6-44b0-90ac-eddbffdf03bf",
   "metadata": {},
   "outputs": [],
   "source": [
    "L = l.assemble(basis_p1)"
   ]
  },
  {
   "cell_type": "code",
   "execution_count": 16,
   "id": "926c2916-8d93-4760-8aa4-ecd1786ae3fd",
   "metadata": {},
   "outputs": [
    {
     "data": {
      "text/plain": [
       "array([0., 0., 0., 0., 0., 0., 0., 0., 0., 0., 0., 0., 0., 0., 0., 0., 0.,\n",
       "       0., 0., 0., 0., 0., 0., 0., 0., 0., 0., 0., 0., 0., 0., 0., 0., 0.,\n",
       "       0., 0., 0., 0., 0., 0., 0., 0., 0., 0., 0., 0., 0., 0., 0., 0., 0.,\n",
       "       0., 0., 0., 0., 0., 0., 0., 0., 0., 0., 0., 0., 0., 0., 0., 0., 0.,\n",
       "       0., 0., 0., 0., 0., 0., 0., 0., 0., 0., 0., 0., 0., 0., 0., 0., 0.,\n",
       "       0., 0., 0., 0., 0., 0., 0., 0., 0., 0., 0., 0., 0., 0., 0., 0.])"
      ]
     },
     "execution_count": 16,
     "metadata": {},
     "output_type": "execute_result"
    }
   ],
   "source": [
    "L"
   ]
  },
  {
   "cell_type": "markdown",
   "id": "d3d0fe67-6ff2-4ca5-b3d1-9a21e40803d7",
   "metadata": {},
   "source": [
    "### Apply inhomogeneous Dirichlet BC"
   ]
  },
  {
   "cell_type": "code",
   "execution_count": 17,
   "id": "98202bff-4d24-4681-ac49-711c507e812c",
   "metadata": {},
   "outputs": [],
   "source": [
    "pot = basis_p1.zeros()\n",
    "pot[basis_p1.get_dofs(lambda x: np.isclose(x[0], 0)).flatten()] = 0.\n",
    "pot[basis_p1.get_dofs(lambda x: np.isclose(x[0], 1)).flatten()] = 10."
   ]
  },
  {
   "cell_type": "markdown",
   "id": "8abeaf75-7687-4bd2-89b0-decf0d35c8e7",
   "metadata": {},
   "source": [
    "### Solve linear equations and plot"
   ]
  },
  {
   "cell_type": "code",
   "execution_count": 18,
   "id": "257416b0-46a4-4118-b477-9e4382cabd23",
   "metadata": {},
   "outputs": [],
   "source": [
    "pot = skfem.solve(*skfem.condense(S, L, x=pot, D=basis_p1.get_dofs()))"
   ]
  },
  {
   "cell_type": "code",
   "execution_count": 19,
   "id": "04812c2e-1ee4-4e8c-b72d-2f7b66db3ad4",
   "metadata": {},
   "outputs": [
    {
     "data": {
      "image/png": "[encoded data removed]",
      "text/plain": [
       "<Figure size 640x480 with 1 Axes>"
      ]
     },
     "metadata": {},
     "output_type": "display_data"
    }
   ],
   "source": [
    "skfem.visuals.matplotlib.plot(mesh, pot);"
   ]
  },
  {
   "cell_type": "markdown",
   "id": "17a41e95-ecde-4f37-add1-d63663b459ad",
   "metadata": {},
   "source": [
    "## Comparing analytical and FEM solutions"
   ]
  },
  {
   "cell_type": "code",
   "execution_count": 20,
   "id": "4c09a2d1-cfa6-4bcf-b9d4-1d18766d5d3e",
   "metadata": {},
   "outputs": [],
   "source": [
    "analytical_pot = np.where(mesh.p[0]<0.5, mesh.p[0] * 40 / 3, (mesh.p[0] * 20 / 3) + (10/3))"
   ]
  },
  {
   "cell_type": "code",
   "execution_count": 21,
   "id": "b2f0ac78-615c-4415-9dae-12c462bad4fd",
   "metadata": {},
   "outputs": [
    {
     "data": {
      "text/plain": [
       "np.float64(9.065226133860604e-13)"
      ]
     },
     "execution_count": 21,
     "metadata": {},
     "output_type": "execute_result"
    }
   ],
   "source": [
    "np.linalg.norm(analytical_pot - pot)"
   ]
  },
  {
   "cell_type": "code",
   "execution_count": 22,
   "id": "13b90641-ec38-4545-a04f-66280e2edcca",
   "metadata": {},
   "outputs": [],
   "source": [
    "import matplotlib.pyplot as plt"
   ]
  },
  {
   "cell_type": "code",
   "execution_count": 23,
   "id": "a2de21c2-5010-471b-a5fc-478a86495813",
   "metadata": {},
   "outputs": [
    {
     "data": {
      "image/png": "[encoded data removed]",
      "text/plain": [
       "<Figure size 640x480 with 1 Axes>"
      ]
     },
     "metadata": {},
     "output_type": "display_data"
    }
   ],
   "source": [
    "plt.plot(mesh.p[0], analytical_pot, \"o\", label=\"analytical\")\n",
    "plt.plot(mesh.p[0], pot, \"x\", label=\"FEM 101 points\")\n",
    "plt.legend()\n",
    "plt.grid()\n",
    "plt.show()"
   ]
  },
  {
   "cell_type": "markdown",
   "id": "c1b01530-ab65-429e-b4d3-e5dbfcf20a10",
   "metadata": {},
   "source": [
    "## Stiffness matrix\n",
    "\n",
    "This is: $\\mathbf{S}_{ij} = \\int_{\\Omega_{ij}} \\sigma_{ij} \\nabla\\phi_i \\cdot \\nabla\\phi_j \\: \\mathrm{d}x$"
   ]
  },
  {
   "cell_type": "code",
   "execution_count": 24,
   "id": "4016d91a-d163-4265-a3f3-d9f1ce7144d1",
   "metadata": {},
   "outputs": [
    {
     "data": {
      "text/plain": [
       "array([[-100.,    0.,    0., ...,    0.,    0.,    0.],\n",
       "       [   0., -300.,    0., ...,    0.,    0.,    0.],\n",
       "       [   0.,    0., -200., ...,    0.,    0.,  200.],\n",
       "       ...,\n",
       "       [   0.,    0.,    0., ..., -400.,  200.,    0.],\n",
       "       [   0.,    0.,    0., ...,  200., -400.,  200.],\n",
       "       [   0.,    0.,  200., ...,    0.,  200., -400.]], shape=(101, 101))"
      ]
     },
     "execution_count": 24,
     "metadata": {},
     "output_type": "execute_result"
    }
   ],
   "source": [
    "S.toarray()"
   ]
  }
 ],
 "metadata": {
  "kernelspec": {
   "display_name": "Python 3 (ipykernel)",
   "language": "python",
   "name": "python3"
  },
  "language_info": {
   "codemirror_mode": {
    "name": "ipython",
    "version": 3
   },
   "file_extension": ".py",
   "mimetype": "text/x-python",
   "name": "python",
   "nbconvert_exporter": "python",
   "pygments_lexer": "ipython3",
   "version": "3.13.5"
  }
 },
 "nbformat": 4,
 "nbformat_minor": 5
}
